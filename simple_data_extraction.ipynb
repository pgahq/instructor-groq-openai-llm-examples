{
  "nbformat": 4,
  "nbformat_minor": 0,
  "metadata": {
    "colab": {
      "provenance": []
    },
    "kernelspec": {
      "name": "python3",
      "display_name": "Python 3"
    },
    "language_info": {
      "name": "python"
    }
  },
  "cells": [
    {
      "cell_type": "markdown",
      "source": [
        "## First things first...\n",
        "\n",
        "You can use Instructor for many things. Here, we will use it to extract structured info from unstructured text.\n",
        "\n",
        "Note: this notebook assumes you're using Google Colab. You can safely edit / play here. Or go to `File` -> `Save a copy in Google Drive` to make your own version.\n",
        "\n",
        "## Now let's get started"
      ],
      "metadata": {
        "id": "ChQ4YaZHvYbR"
      }
    },
    {
      "cell_type": "code",
      "execution_count": null,
      "metadata": {
        "id": "7j-wjRULjwc4"
      },
      "outputs": [],
      "source": [
        "%%capture\n",
        "!pip install instructor groq openai"
      ]
    },
    {
      "cell_type": "markdown",
      "source": [
        "On the left, click the key and set two secrets with your keys. Be sure to enable \"Notebook access\" for them. This is how Google Colab works...you're not sharing your keys with anyone.\n",
        "\n",
        "OPENAI_API_KEY\n",
        "\n",
        "GROQ_API_KEY"
      ],
      "metadata": {
        "id": "tA_GryIio4JN"
      }
    },
    {
      "cell_type": "code",
      "source": [
        "import instructor\n",
        "import openai\n",
        "import groq\n",
        "from pydantic import BaseModel, Field\n",
        "from typing import Optional, List\n",
        "from google.colab import userdata\n",
        "import os\n",
        "\n",
        "os.environ['OPENAI_API_KEY'] = '' or userdata.get('OPENAI_API_KEY') # or put your key in the '' on this line\n",
        "os.environ['GROQ_API_KEY'] = '' or userdata.get('GROQ_API_KEY')\n",
        "\n",
        "inference_provider = \"openai\"   # \"openai\" or \"groq\"\n",
        "client = instructor.from_openai(openai.OpenAI()) if inference_provider == \"openai\" else instructor.from_groq(groq.Groq())\n",
        "\n",
        "class UserDetail(BaseModel):\n",
        "    chain_of_thought: str = Field(description=\"Think step by step.\")\n",
        "    name: str = Field(description=\"Name of the user.\")\n",
        "    age: int = Field(description=\"Age of the user.\")\n",
        "    email: Optional[str] = Field(description=\"Email of the user.\")\n",
        "\n",
        "user = client.chat.completions.create(\n",
        "    model=\"llama3-70b-8192\" if inference_provider == \"groq\" else \"gpt-4-turbo\",\n",
        "    response_model=UserDetail, # this is Instructor at work!\n",
        "    temperature=0.0,\n",
        "    messages=[{\"role\": \"user\", \"content\": \"Jason is the user and he's 25 years older than Rick who was born 3 years ago.\"}]\n",
        "    )\n",
        "\n",
        "print(user.model_dump_json(indent=4))\n"
      ],
      "metadata": {
        "colab": {
          "base_uri": "https://localhost:8080/"
        },
        "id": "M9Om0C2YmGGj",
        "outputId": "1620461d-c5b3-4e49-a2fd-ca3f53ca9dd0"
      },
      "execution_count": null,
      "outputs": [
        {
          "output_type": "stream",
          "name": "stdout",
          "text": [
            "{\n",
            "    \"chain_of_thought\": \"To find Jason's age, we first determine Rick's age. Rick was born 3 years ago, so he is 3 years old. Jason is 25 years older than Rick, so Jason's age is 3 years (Rick's age) + 25 years = 28 years.\",\n",
            "    \"name\": \"Jason\",\n",
            "    \"age\": 28,\n",
            "    \"email\": null\n",
            "}\n"
          ]
        }
      ]
    }
  ]
}