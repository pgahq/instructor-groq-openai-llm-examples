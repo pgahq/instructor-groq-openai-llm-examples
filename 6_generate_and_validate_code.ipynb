{
  "nbformat": 4,
  "nbformat_minor": 0,
  "metadata": {
    "colab": {
      "provenance": []
    },
    "kernelspec": {
      "name": "python3",
      "display_name": "Python 3"
    },
    "language_info": {
      "name": "python"
    }
  },
  "cells": [
    {
      "cell_type": "markdown",
      "source": [
        "## Overview\n",
        "\n",
        "This notebook shows how to use Instructor with LLMs to generate simple Python code. It uses validation to ensure the dependencies are correct and that the code runs without errors.\n",
        "\n",
        "Note: this notebook assumes you're using Google Colab. You can safely edit / play here. Or go to `File` -> `Save a copy in Google Drive` to make your own version."
      ],
      "metadata": {
        "id": "ChQ4YaZHvYbR"
      }
    },
    {
      "cell_type": "code",
      "execution_count": 1,
      "metadata": {
        "id": "7j-wjRULjwc4"
      },
      "outputs": [],
      "source": [
        "%%capture\n",
        "!pip install instructor groq openai"
      ]
    },
    {
      "cell_type": "markdown",
      "source": [
        "On the left, click the key and set two secrets with your keys. Be sure to enable \"Notebook access\" for them. This is how Google Colab works...you're not sharing your keys with anyone.\n",
        "\n",
        "OPENAI_API_KEY\n",
        "\n",
        "GROQ_API_KEY"
      ],
      "metadata": {
        "id": "tA_GryIio4JN"
      }
    },
    {
      "cell_type": "code",
      "source": [
        "import instructor\n",
        "import openai\n",
        "import groq\n",
        "from pydantic import BaseModel, Field, field_validator\n",
        "from typing import List\n",
        "import subprocess\n",
        "from rich import print as rprint\n",
        "from google.colab import userdata\n",
        "import os\n",
        "\n",
        "os.environ['OPENAI_API_KEY'] = '' or userdata.get('OPENAI_API_KEY') # or put your key in the '' on this line\n",
        "os.environ['GROQ_API_KEY'] = '' or userdata.get('GROQ_API_KEY')"
      ],
      "metadata": {
        "id": "M9Om0C2YmGGj"
      },
      "execution_count": 8,
      "outputs": []
    },
    {
      "cell_type": "markdown",
      "source": [
        "Now to the cool stuff..."
      ],
      "metadata": {
        "id": "N2xtRfmD6pgH"
      }
    },
    {
      "cell_type": "code",
      "source": [
        "inference_provider = \"openai\"   # \"openai\" or \"groq\"\n",
        "client = instructor.from_openai(openai.OpenAI()) if inference_provider == \"openai\" else instructor.from_groq(groq.Groq())\n",
        "\n",
        "class VerifiedPythonCodeAndDependencies(BaseModel):\n",
        "    \"\"\"\n",
        "    Python code and dependencies to meet specified requirements. Dependencies will be installed and the code will be executed.\n",
        "\n",
        "    Limitations:\n",
        "    - This code will not be tested for quality, only that it runs without errors.\n",
        "    \"\"\"\n",
        "    architecture: str = Field(description=\"A markdown file that describes the architecture of the code and how it will satisfy each requirement one by one.\")\n",
        "    dependencies: List[str] = Field(description=\"List of pip packages required to run the code.\")\n",
        "    code: str = Field(description=\"A single Python file code.\")\n",
        "\n",
        "    # the order above specifies the order of validation\n",
        "\n",
        "    @field_validator('dependencies')\n",
        "    @classmethod\n",
        "    def validate_dependencies(cls, v):\n",
        "        if v:\n",
        "            try:\n",
        "                subprocess.run([\"pip\", \"install\"] + v, check=True)\n",
        "                print(\"Dependencies installed: \" + \", \".join(v))\n",
        "                print(\"\\n\\n\")\n",
        "            except subprocess.CalledProcessError as e:\n",
        "                error_value = \"Failed to install dependencies: \" + str(e)\n",
        "                print(error_value)\n",
        "                raise ValueError(error_value)\n",
        "        return v\n",
        "\n",
        "    @field_validator('code')\n",
        "    @classmethod\n",
        "    def validate_code(cls, v):\n",
        "        if v:\n",
        "            try:\n",
        "                print(\"Python code\\n===========\\n\")\n",
        "                rprint(code)\n",
        "                print(\"\\n\\nTrying code\\n===========\\n\")\n",
        "                exec(code)\n",
        "            except subprocess.CalledProcessError as e:\n",
        "                error_value = \"Error while executing code: \" + str(e)\n",
        "                print(error_value)\n",
        "                raise ValueError(error_value)\n",
        "        return v\n",
        "\n",
        "result = client.chat.completions.create(\n",
        "    model=\"llama3-70b-8192\" if inference_provider == \"groq\" else \"gpt-4-turbo\",\n",
        "    response_model=VerifiedPythonCodeAndDependencies,\n",
        "    temperature=0.0,\n",
        "    max_retries=3,\n",
        "    messages=[{\"role\": \"user\", \"content\": \"\"\"\n",
        "        Extract the text content of https://example.com as markdown and print it out.\n",
        "        \"\"\"}]\n",
        "    )\n",
        "\n",
        "code = result.code\n",
        "# rprint(code)"
      ],
      "metadata": {
        "id": "50rSTdEq6nr6",
        "colab": {
          "base_uri": "https://localhost:8080/",
          "height": 1000
        },
        "outputId": "24a88d26-612a-46ae-dd19-e5f3bf710fd6"
      },
      "execution_count": 26,
      "outputs": [
        {
          "output_type": "stream",
          "name": "stdout",
          "text": [
            "Dependencies installed: requests, beautifulsoup4\n",
            "\n",
            "\n",
            "\n",
            "Python code\n",
            "===========\n",
            "\n"
          ]
        },
        {
          "output_type": "display_data",
          "data": {
            "text/plain": [
              "import requests\n",
              "\n",
              "response = \u001b[1;35mrequests.get\u001b[0m\u001b[1m(\u001b[0m\u001b[32m'https://example.com'\u001b[0m\u001b[1m)\u001b[0m\n",
              "\u001b[1;35mprint\u001b[0m\u001b[1m(\u001b[0mresponse.text\u001b[1m)\u001b[0m\n"
            ],
            "text/html": [
              "<pre style=\"white-space:pre;overflow-x:auto;line-height:normal;font-family:Menlo,'DejaVu Sans Mono',consolas,'Courier New',monospace\">import requests\n",
              "\n",
              "response = <span style=\"color: #800080; text-decoration-color: #800080; font-weight: bold\">requests.get</span><span style=\"font-weight: bold\">(</span><span style=\"color: #008000; text-decoration-color: #008000\">'https://example.com'</span><span style=\"font-weight: bold\">)</span>\n",
              "<span style=\"color: #800080; text-decoration-color: #800080; font-weight: bold\">print</span><span style=\"font-weight: bold\">(</span>response.text<span style=\"font-weight: bold\">)</span>\n",
              "</pre>\n"
            ]
          },
          "metadata": {}
        },
        {
          "output_type": "stream",
          "name": "stdout",
          "text": [
            "\n",
            "\n",
            "Trying code\n",
            "===========\n",
            "\n",
            "<!doctype html>\n",
            "<html>\n",
            "<head>\n",
            "    <title>Example Domain</title>\n",
            "\n",
            "    <meta charset=\"utf-8\" />\n",
            "    <meta http-equiv=\"Content-type\" content=\"text/html; charset=utf-8\" />\n",
            "    <meta name=\"viewport\" content=\"width=device-width, initial-scale=1\" />\n",
            "    <style type=\"text/css\">\n",
            "    body {\n",
            "        background-color: #f0f0f2;\n",
            "        margin: 0;\n",
            "        padding: 0;\n",
            "        font-family: -apple-system, system-ui, BlinkMacSystemFont, \"Segoe UI\", \"Open Sans\", \"Helvetica Neue\", Helvetica, Arial, sans-serif;\n",
            "        \n",
            "    }\n",
            "    div {\n",
            "        width: 600px;\n",
            "        margin: 5em auto;\n",
            "        padding: 2em;\n",
            "        background-color: #fdfdff;\n",
            "        border-radius: 0.5em;\n",
            "        box-shadow: 2px 3px 7px 2px rgba(0,0,0,0.02);\n",
            "    }\n",
            "    a:link, a:visited {\n",
            "        color: #38488f;\n",
            "        text-decoration: none;\n",
            "    }\n",
            "    @media (max-width: 700px) {\n",
            "        div {\n",
            "            margin: 0 auto;\n",
            "            width: auto;\n",
            "        }\n",
            "    }\n",
            "    </style>    \n",
            "</head>\n",
            "\n",
            "<body>\n",
            "<div>\n",
            "    <h1>Example Domain</h1>\n",
            "    <p>This domain is for use in illustrative examples in documents. You may use this\n",
            "    domain in literature without prior coordination or asking for permission.</p>\n",
            "    <p><a href=\"https://www.iana.org/domains/example\">More information...</a></p>\n",
            "</div>\n",
            "</body>\n",
            "</html>\n",
            "\n"
          ]
        }
      ]
    }
  ]
}