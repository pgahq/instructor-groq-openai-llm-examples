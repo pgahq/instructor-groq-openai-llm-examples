{
  "cells": [
    {
      "cell_type": "markdown",
      "metadata": {
        "id": "ChQ4YaZHvYbR"
      },
      "source": [
        "## Overview\n",
        "\n",
        "This notebook shows how to use Instructor with LLMs to generate simple Python code. It uses validation to ensure the dependencies are correct and that the code runs without errors.\n",
        "\n",
        "Note: this notebook assumes you're using Google Colab. You can safely edit / play here. Or go to `File` -> `Save a copy in Google Drive` to make your own version."
      ]
    },
    {
      "cell_type": "code",
      "execution_count": 3,
      "metadata": {
        "id": "7j-wjRULjwc4"
      },
      "outputs": [],
      "source": [
        "%%capture\n",
        "!pip install instructor groq openai"
      ]
    },
    {
      "cell_type": "markdown",
      "metadata": {
        "id": "tA_GryIio4JN"
      },
      "source": [
        "On the left, click the key and set two secrets with your keys. Be sure to enable \"Notebook access\" for them. This is how Google Colab works...you're not sharing your keys with anyone.\n",
        "\n",
        "OPENAI_API_KEY\n",
        "\n",
        "GROQ_API_KEY"
      ]
    },
    {
      "cell_type": "code",
      "execution_count": 5,
      "metadata": {
        "id": "M9Om0C2YmGGj"
      },
      "outputs": [],
      "source": [
        "import instructor\n",
        "import openai\n",
        "import groq\n",
        "from pydantic import BaseModel, Field, field_validator\n",
        "from typing import List\n",
        "import subprocess\n",
        "from rich import print as rprint\n",
        "import os\n",
        "\n",
        "try:\n",
        "    from google.colab import userdata\n",
        "    os.environ['OPENAI_API_KEY'] = '' or userdata.get('OPENAI_API_KEY') # or put your key in the '' on this line\n",
        "    os.environ['GROQ_API_KEY'] = '' or userdata.get('GROQ_API_KEY')\n",
        "except Exception as e:\n",
        "    # print(e)\n",
        "    pass\n"
      ]
    },
    {
      "cell_type": "markdown",
      "metadata": {
        "id": "N2xtRfmD6pgH"
      },
      "source": [
        "Now to the cool stuff..."
      ]
    },
    {
      "cell_type": "code",
      "execution_count": null,
      "metadata": {
        "colab": {
          "base_uri": "https://localhost:8080/",
          "height": 1000
        },
        "id": "50rSTdEq6nr6",
        "outputId": "24a88d26-612a-46ae-dd19-e5f3bf710fd6"
      },
      "outputs": [],
      "source": [
        "inference_provider = \"openai\"   # \"openai\" or \"groq\"\n",
        "client = instructor.from_openai(openai.OpenAI()) if inference_provider == \"openai\" else instructor.from_groq(groq.Groq())\n",
        "\n",
        "class VerifiedPythonCodeAndDependencies(BaseModel):\n",
        "    \"\"\"\n",
        "    Python code and dependencies to meet specified requirements. Dependencies will be installed and the code will be executed.\n",
        "\n",
        "    Limitations:\n",
        "    - This code will not be tested for quality, only that it runs without errors.\n",
        "    \"\"\"\n",
        "    architecture: str = Field(description=\"A markdown file that describes the architecture of the code and how it will satisfy each requirement one by one.\")\n",
        "    dependencies: List[str] = Field(description=\"List of pip packages required to run the code.\")\n",
        "    code: str = Field(description=\"A single Python file code.\")\n",
        "\n",
        "    # the order above specifies the order of validation\n",
        "\n",
        "    @field_validator('dependencies')\n",
        "    @classmethod\n",
        "    def validate_dependencies(cls, v):\n",
        "        if v:\n",
        "            try:\n",
        "                subprocess.run([\"pip\", \"install\"] + v, check=True)\n",
        "                print(\"Dependencies installed: \" + \", \".join(v))\n",
        "                print(\"\\n\\n\")\n",
        "            except subprocess.CalledProcessError as e:\n",
        "                error_value = \"Failed to install dependencies: \" + str(e)\n",
        "                print(error_value)\n",
        "                raise ValueError(error_value)\n",
        "        return v\n",
        "\n",
        "    @field_validator('code')\n",
        "    @classmethod\n",
        "    def validate_code(cls, v):\n",
        "        if v:\n",
        "            try:\n",
        "                print(\"Python code\\n===========\\n\")\n",
        "                rprint(code)\n",
        "                print(\"\\n\\nTrying code\\n===========\\n\")\n",
        "                exec(code)\n",
        "            except subprocess.CalledProcessError as e:\n",
        "                error_value = \"Error while executing code: \" + str(e)\n",
        "                print(error_value)\n",
        "                raise ValueError(error_value)\n",
        "        return v\n",
        "\n",
        "result = client.chat.completions.create(\n",
        "    model=\"llama3-70b-8192\" if inference_provider == \"groq\" else \"gpt-4-turbo\",\n",
        "    response_model=VerifiedPythonCodeAndDependencies,\n",
        "    temperature=0.0,\n",
        "    max_retries=3,\n",
        "    messages=[{\"role\": \"user\", \"content\": \"\"\"\n",
        "        Extract the text content of https://example.com as markdown and print it out.\n",
        "        \"\"\"}]\n",
        "    )\n",
        "\n",
        "code = result.code\n",
        "# rprint(code)"
      ]
    }
  ],
  "metadata": {
    "colab": {
      "provenance": []
    },
    "kernelspec": {
      "display_name": "Python 3",
      "name": "python3"
    },
    "language_info": {
      "codemirror_mode": {
        "name": "ipython",
        "version": 3
      },
      "file_extension": ".py",
      "mimetype": "text/x-python",
      "name": "python",
      "nbconvert_exporter": "python",
      "pygments_lexer": "ipython3",
      "version": "3.12.2"
    }
  },
  "nbformat": 4,
  "nbformat_minor": 0
}
