{
  "cells": [
    {
      "cell_type": "markdown",
      "metadata": {
        "id": "ChQ4YaZHvYbR"
      },
      "source": [
        "## Overview\n",
        "\n",
        "This notebook shows how to use Instructor with LLMs to generate simple Python code. It uses validation to ensure the dependencies are correct and that the code runs without errors.\n",
        "\n",
        "Note: this notebook assumes you're using Google Colab. You can safely edit / play here. Or go to `File` -> `Save a copy in Google Drive` to make your own version."
      ]
    },
    {
      "cell_type": "code",
      "execution_count": 1,
      "metadata": {
        "id": "7j-wjRULjwc4"
      },
      "outputs": [],
      "source": [
        "%%capture\n",
        "!pip install instructor groq openai"
      ]
    },
    {
      "cell_type": "markdown",
      "metadata": {
        "id": "tA_GryIio4JN"
      },
      "source": [
        "On the left, click the key and set two secrets with your keys. Be sure to enable \"Notebook access\" for them. This is how Google Colab works...you're not sharing your keys with anyone.\n",
        "\n",
        "OPENAI_API_KEY\n",
        "\n",
        "GROQ_API_KEY"
      ]
    },
    {
      "cell_type": "code",
      "execution_count": 2,
      "metadata": {
        "id": "M9Om0C2YmGGj"
      },
      "outputs": [],
      "source": [
        "import instructor\n",
        "import openai\n",
        "import groq\n",
        "from pydantic import BaseModel, Field, field_validator\n",
        "from typing import List\n",
        "import subprocess\n",
        "from rich import print as rprint\n",
        "import os\n",
        "\n",
        "try:\n",
        "    from google.colab import userdata\n",
        "    os.environ['OPENAI_API_KEY'] = '' or userdata.get('OPENAI_API_KEY') # or put your key in the '' on this line\n",
        "    os.environ['GROQ_API_KEY'] = '' or userdata.get('GROQ_API_KEY')\n",
        "except Exception as e:\n",
        "    # print(e)\n",
        "    pass\n"
      ]
    },
    {
      "cell_type": "markdown",
      "metadata": {
        "id": "N2xtRfmD6pgH"
      },
      "source": [
        "Now to the cool stuff..."
      ]
    },
    {
      "cell_type": "code",
      "execution_count": 3,
      "metadata": {
        "colab": {
          "base_uri": "https://localhost:8080/",
          "height": 1000
        },
        "id": "50rSTdEq6nr6",
        "outputId": "24a88d26-612a-46ae-dd19-e5f3bf710fd6"
      },
      "outputs": [
        {
          "name": "stdout",
          "output_type": "stream",
          "text": [
            "Requirement already satisfied: requests in ./.venv/lib/python3.12/site-packages (2.31.0)\n",
            "Requirement already satisfied: beautifulsoup4 in ./.venv/lib/python3.12/site-packages (4.12.3)\n",
            "Requirement already satisfied: markdownify in ./.venv/lib/python3.12/site-packages (0.12.1)\n",
            "Requirement already satisfied: charset-normalizer<4,>=2 in ./.venv/lib/python3.12/site-packages (from requests) (3.3.2)\n",
            "Requirement already satisfied: idna<4,>=2.5 in ./.venv/lib/python3.12/site-packages (from requests) (3.7)\n",
            "Requirement already satisfied: urllib3<3,>=1.21.1 in ./.venv/lib/python3.12/site-packages (from requests) (2.2.1)\n",
            "Requirement already satisfied: certifi>=2017.4.17 in ./.venv/lib/python3.12/site-packages (from requests) (2024.2.2)\n",
            "Requirement already satisfied: soupsieve>1.2 in ./.venv/lib/python3.12/site-packages (from beautifulsoup4) (2.5)\n",
            "Requirement already satisfied: six<2,>=1.15 in ./.venv/lib/python3.12/site-packages (from markdownify) (1.16.0)\n",
            "Dependencies installed: requests, beautifulsoup4, markdownify\n",
            "\n",
            "\n",
            "\n",
            "Python code\n",
            "===========\n",
            "\n"
          ]
        },
        {
          "data": {
            "text/html": [
              "<pre style=\"white-space:pre;overflow-x:auto;line-height:normal;font-family:Menlo,'DejaVu Sans Mono',consolas,'Courier New',monospace\">import requests\n",
              "from bs4 import BeautifulSoup\n",
              "from markdownify import markdownify as md\n",
              "\n",
              "# URL of the webpage\n",
              "target_url = <span style=\"color: #008000; text-decoration-color: #008000\">'https://example.com'</span>\n",
              "\n",
              "# Fetch the webpage content\n",
              "response = <span style=\"color: #800080; text-decoration-color: #800080; font-weight: bold\">requests.get</span><span style=\"font-weight: bold\">(</span>target_url<span style=\"font-weight: bold\">)</span>\n",
              "<span style=\"color: #800080; text-decoration-color: #800080; font-weight: bold\">response.raise_for_status</span><span style=\"font-weight: bold\">()</span>  # Ensure the request was successful\n",
              "\n",
              "# Parse the HTML content\n",
              "soup = <span style=\"color: #800080; text-decoration-color: #800080; font-weight: bold\">BeautifulSoup</span><span style=\"font-weight: bold\">(</span>response.text, <span style=\"color: #008000; text-decoration-color: #008000\">'html.parser'</span><span style=\"font-weight: bold\">)</span>\n",
              "\n",
              "# Extract the main content as text\n",
              "# Assuming the main content is within the <span style=\"font-weight: bold\">&lt;</span><span style=\"color: #ff00ff; text-decoration-color: #ff00ff; font-weight: bold\">body</span><span style=\"font-weight: bold\">&gt;</span> tag\n",
              "main_content = soup.body\n",
              "\n",
              "# Convert HTML to Markdown\n",
              "markdown_text = <span style=\"color: #800080; text-decoration-color: #800080; font-weight: bold\">md</span><span style=\"font-weight: bold\">(</span><span style=\"color: #800080; text-decoration-color: #800080; font-weight: bold\">str</span><span style=\"font-weight: bold\">(</span>main_content<span style=\"font-weight: bold\">)</span>, <span style=\"color: #808000; text-decoration-color: #808000\">heading_style</span>=<span style=\"color: #008000; text-decoration-color: #008000\">'ATX'</span><span style=\"font-weight: bold\">)</span>\n",
              "\n",
              "# Print the markdown text\n",
              "<span style=\"color: #800080; text-decoration-color: #800080; font-weight: bold\">print</span><span style=\"font-weight: bold\">(</span>markdown_text<span style=\"font-weight: bold\">)</span>\n",
              "</pre>\n"
            ],
            "text/plain": [
              "import requests\n",
              "from bs4 import BeautifulSoup\n",
              "from markdownify import markdownify as md\n",
              "\n",
              "# URL of the webpage\n",
              "target_url = \u001b[32m'https://example.com'\u001b[0m\n",
              "\n",
              "# Fetch the webpage content\n",
              "response = \u001b[1;35mrequests.get\u001b[0m\u001b[1m(\u001b[0mtarget_url\u001b[1m)\u001b[0m\n",
              "\u001b[1;35mresponse.raise_for_status\u001b[0m\u001b[1m(\u001b[0m\u001b[1m)\u001b[0m  # Ensure the request was successful\n",
              "\n",
              "# Parse the HTML content\n",
              "soup = \u001b[1;35mBeautifulSoup\u001b[0m\u001b[1m(\u001b[0mresponse.text, \u001b[32m'html.parser'\u001b[0m\u001b[1m)\u001b[0m\n",
              "\n",
              "# Extract the main content as text\n",
              "# Assuming the main content is within the \u001b[1m<\u001b[0m\u001b[1;95mbody\u001b[0m\u001b[1m>\u001b[0m tag\n",
              "main_content = soup.body\n",
              "\n",
              "# Convert HTML to Markdown\n",
              "markdown_text = \u001b[1;35mmd\u001b[0m\u001b[1m(\u001b[0m\u001b[1;35mstr\u001b[0m\u001b[1m(\u001b[0mmain_content\u001b[1m)\u001b[0m, \u001b[33mheading_style\u001b[0m=\u001b[32m'ATX'\u001b[0m\u001b[1m)\u001b[0m\n",
              "\n",
              "# Print the markdown text\n",
              "\u001b[1;35mprint\u001b[0m\u001b[1m(\u001b[0mmarkdown_text\u001b[1m)\u001b[0m\n"
            ]
          },
          "metadata": {},
          "output_type": "display_data"
        },
        {
          "name": "stdout",
          "output_type": "stream",
          "text": [
            "\n",
            "\n",
            "Trying code\n",
            "===========\n",
            "\n",
            "\n",
            "\n",
            "# Example Domain\n",
            "\n",
            "\n",
            "This domain is for use in illustrative examples in documents. You may use this\n",
            " domain in literature without prior coordination or asking for permission.\n",
            "\n",
            "\n",
            "[More information...](https://www.iana.org/domains/example)\n",
            "\n",
            "\n",
            "\n",
            "\n"
          ]
        }
      ],
      "source": [
        "inference_provider = \"openai\"   # \"openai\" or \"groq\"\n",
        "client = instructor.from_openai(openai.OpenAI()) if inference_provider == \"openai\" else instructor.from_groq(groq.Groq())\n",
        "\n",
        "class CodeFile(BaseModel):\n",
        "    \"\"\"\n",
        "    Python code and dependencies to meet specified requirements. Dependencies will be installed and the code will be executed.\n",
        "\n",
        "    Limitations:\n",
        "    - This code will not be tested for quality, only that it runs without errors.\n",
        "    \"\"\"\n",
        "    architecture: str = Field(description=\"A markdown file that describes the architecture of the code and how it will satisfy each requirement one by one.\")\n",
        "    dependencies: List[str] = Field(description=\"List of pip packages required to run the code.\")\n",
        "    code: str = Field(description=\"A single Python file.\")\n",
        "\n",
        "    # the order above specifies the order of validation\n",
        "\n",
        "    @field_validator('dependencies')\n",
        "    @classmethod\n",
        "    def validate_dependencies(cls, v):\n",
        "        if v:\n",
        "            try:\n",
        "                subprocess.run([\"pip\", \"install\"] + v, check=True)\n",
        "                print(\"Dependencies installed: \" + \", \".join(v))\n",
        "                print(\"\\n\\n\")\n",
        "            except subprocess.CalledProcessError as e:\n",
        "                error_value = \"Failed to install dependencies: \" + str(e)\n",
        "                print(error_value)\n",
        "                raise ValueError(error_value)\n",
        "        return v\n",
        "\n",
        "    @field_validator('code')\n",
        "    @classmethod\n",
        "    def validate_code(cls, v):\n",
        "        if v:\n",
        "            try:\n",
        "                print(\"Python code\\n===========\\n\")\n",
        "                rprint(v)\n",
        "                print(\"\\n\\nTrying code\\n===========\\n\")\n",
        "                exec(v)\n",
        "            except Exception as e:\n",
        "                error_value = \"Error while executing code: \" + str(e)\n",
        "                print(error_value)\n",
        "                raise ValueError(error_value)\n",
        "        return v\n",
        "\n",
        "result = client.chat.completions.create(\n",
        "    model=\"llama3-70b-8192\" if inference_provider == \"groq\" else \"gpt-4-turbo\",\n",
        "    response_model=CodeFile,\n",
        "    temperature=0.0,\n",
        "    max_retries=3,\n",
        "    messages=[{\"role\": \"user\", \"content\": \"\"\"\n",
        "        Extract the text content of https://example.com as markdown and print it out. Be thoughtful to only extract the content as a human user would want it rather than the HTML and other source code.\n",
        "        \"\"\"}]\n",
        "    )\n",
        "\n",
        "code = result.code\n",
        "# rprint(code)"
      ]
    }
  ],
  "metadata": {
    "colab": {
      "provenance": []
    },
    "kernelspec": {
      "display_name": "Python 3",
      "name": "python3"
    },
    "language_info": {
      "codemirror_mode": {
        "name": "ipython",
        "version": 3
      },
      "file_extension": ".py",
      "mimetype": "text/x-python",
      "name": "python",
      "nbconvert_exporter": "python",
      "pygments_lexer": "ipython3",
      "version": "3.12.2"
    }
  },
  "nbformat": 4,
  "nbformat_minor": 0
}
