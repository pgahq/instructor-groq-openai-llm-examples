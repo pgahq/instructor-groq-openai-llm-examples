{
  "cells": [
    {
      "cell_type": "markdown",
      "metadata": {
        "id": "ChQ4YaZHvYbR"
      },
      "source": [
        "## Overview\n",
        "\n",
        "This notebook shows how to use Instructor to generate a list of objects...not just extract it.\n",
        "\n",
        "Note: this notebook assumes you're using Google Colab. You can safely edit / play here. Or go to `File` -> `Save a copy in Google Drive` to make your own version.\n",
        "\n"
      ]
    },
    {
      "cell_type": "code",
      "execution_count": 1,
      "metadata": {
        "id": "7j-wjRULjwc4"
      },
      "outputs": [],
      "source": [
        "%%capture\n",
        "!pip install instructor groq openai"
      ]
    },
    {
      "cell_type": "markdown",
      "metadata": {
        "id": "tA_GryIio4JN"
      },
      "source": [
        "On the left, click the key and set two secrets with your keys. Be sure to enable \"Notebook access\" for them. This is how Google Colab works...you're not sharing your keys with anyone.\n",
        "\n",
        "OPENAI_API_KEY\n",
        "\n",
        "GROQ_API_KEY"
      ]
    },
    {
      "cell_type": "code",
      "execution_count": 1,
      "metadata": {
        "id": "M9Om0C2YmGGj"
      },
      "outputs": [],
      "source": [
        "import openai\n",
        "import groq\n",
        "import instructor\n",
        "from typing import List\n",
        "from pydantic import BaseModel, Field\n",
        "from rich import print as rprint\n",
        "import os\n",
        "\n",
        "try:\n",
        "    from google.colab import userdata\n",
        "    os.environ['OPENAI_API_KEY'] = '' or userdata.get('OPENAI_API_KEY') # or put your key in the '' on this line\n",
        "    os.environ['GROQ_API_KEY'] = '' or userdata.get('GROQ_API_KEY')\n",
        "except Exception as e:\n",
        "    # print(e)\n",
        "    pass\n"
      ]
    },
    {
      "cell_type": "markdown",
      "metadata": {
        "id": "N2xtRfmD6pgH"
      },
      "source": [
        "Now to the cool stuff..."
      ]
    },
    {
      "cell_type": "code",
      "execution_count": 2,
      "metadata": {
        "colab": {
          "base_uri": "https://localhost:8080/",
          "height": 595
        },
        "id": "50rSTdEq6nr6",
        "outputId": "8223f3fe-33ce-40f8-eccd-c7d2733b021e"
      },
      "outputs": [
        {
          "data": {
            "text/html": [
              "<pre style=\"white-space:pre;overflow-x:auto;line-height:normal;font-family:Menlo,'DejaVu Sans Mono',consolas,'Courier New',monospace\"><span style=\"color: #800080; text-decoration-color: #800080; font-weight: bold\">User</span><span style=\"font-weight: bold\">(</span>\n",
              "    <span style=\"color: #808000; text-decoration-color: #808000\">name</span>=<span style=\"color: #008000; text-decoration-color: #008000\">'Paige Turner'</span>,\n",
              "    <span style=\"color: #808000; text-decoration-color: #808000\">profession</span>=<span style=\"color: #008000; text-decoration-color: #008000\">'Librarian'</span>,\n",
              "    <span style=\"color: #808000; text-decoration-color: #808000\">justification</span>=<span style=\"color: #008000; text-decoration-color: #008000\">\"The name 'Paige Turner' sounds like 'page turner,' which is a term used to describe a very </span>\n",
              "<span style=\"color: #008000; text-decoration-color: #008000\">engaging book, making it an apt name for a librarian.\"</span>,\n",
              "    <span style=\"color: #808000; text-decoration-color: #808000\">age</span>=<span style=\"color: #008080; text-decoration-color: #008080; font-weight: bold\">34</span>\n",
              "<span style=\"font-weight: bold\">)</span>\n",
              "</pre>\n"
            ],
            "text/plain": [
              "\u001b[1;35mUser\u001b[0m\u001b[1m(\u001b[0m\n",
              "    \u001b[33mname\u001b[0m=\u001b[32m'Paige Turner'\u001b[0m,\n",
              "    \u001b[33mprofession\u001b[0m=\u001b[32m'Librarian'\u001b[0m,\n",
              "    \u001b[33mjustification\u001b[0m=\u001b[32m\"The\u001b[0m\u001b[32m name 'Paige Turner' sounds like 'page turner,' which is a term used to describe a very \u001b[0m\n",
              "\u001b[32mengaging book, making it an apt name for a librarian.\"\u001b[0m,\n",
              "    \u001b[33mage\u001b[0m=\u001b[1;36m34\u001b[0m\n",
              "\u001b[1m)\u001b[0m\n"
            ]
          },
          "metadata": {},
          "output_type": "display_data"
        },
        {
          "data": {
            "text/html": [
              "<pre style=\"white-space:pre;overflow-x:auto;line-height:normal;font-family:Menlo,'DejaVu Sans Mono',consolas,'Courier New',monospace\"><span style=\"color: #800080; text-decoration-color: #800080; font-weight: bold\">User</span><span style=\"font-weight: bold\">(</span>\n",
              "    <span style=\"color: #808000; text-decoration-color: #808000\">name</span>=<span style=\"color: #008000; text-decoration-color: #008000\">'Bill Fold'</span>,\n",
              "    <span style=\"color: #808000; text-decoration-color: #808000\">profession</span>=<span style=\"color: #008000; text-decoration-color: #008000\">'Banker'</span>,\n",
              "    <span style=\"color: #808000; text-decoration-color: #808000\">justification</span>=<span style=\"color: #008000; text-decoration-color: #008000\">\"The name 'Bill Fold' humorously resembles the term used for a wallet where one might keep bills,</span>\n",
              "<span style=\"color: #008000; text-decoration-color: #008000\">apt for someone working with money.\"</span>,\n",
              "    <span style=\"color: #808000; text-decoration-color: #808000\">age</span>=<span style=\"color: #008080; text-decoration-color: #008080; font-weight: bold\">45</span>\n",
              "<span style=\"font-weight: bold\">)</span>\n",
              "</pre>\n"
            ],
            "text/plain": [
              "\u001b[1;35mUser\u001b[0m\u001b[1m(\u001b[0m\n",
              "    \u001b[33mname\u001b[0m=\u001b[32m'Bill Fold'\u001b[0m,\n",
              "    \u001b[33mprofession\u001b[0m=\u001b[32m'Banker'\u001b[0m,\n",
              "    \u001b[33mjustification\u001b[0m=\u001b[32m\"The\u001b[0m\u001b[32m name 'Bill Fold' humorously resembles the term used for a wallet where one might keep bills,\u001b[0m\n",
              "\u001b[32mapt for someone working with money.\"\u001b[0m,\n",
              "    \u001b[33mage\u001b[0m=\u001b[1;36m45\u001b[0m\n",
              "\u001b[1m)\u001b[0m\n"
            ]
          },
          "metadata": {},
          "output_type": "display_data"
        },
        {
          "data": {
            "text/html": [
              "<pre style=\"white-space:pre;overflow-x:auto;line-height:normal;font-family:Menlo,'DejaVu Sans Mono',consolas,'Courier New',monospace\"><span style=\"color: #800080; text-decoration-color: #800080; font-weight: bold\">User</span><span style=\"font-weight: bold\">(</span>\n",
              "    <span style=\"color: #808000; text-decoration-color: #808000\">name</span>=<span style=\"color: #008000; text-decoration-color: #008000\">'Cliff Hanger'</span>,\n",
              "    <span style=\"color: #808000; text-decoration-color: #808000\">profession</span>=<span style=\"color: #008000; text-decoration-color: #008000\">'Rock Climbing Instructor'</span>,\n",
              "    <span style=\"color: #808000; text-decoration-color: #808000\">justification</span>=<span style=\"color: #008000; text-decoration-color: #008000\">\"'Cliff Hanger' evokes the image of hanging on a cliff, directly relevant to his profession as a </span>\n",
              "<span style=\"color: #008000; text-decoration-color: #008000\">rock climbing instructor.\"</span>,\n",
              "    <span style=\"color: #808000; text-decoration-color: #808000\">age</span>=<span style=\"color: #008080; text-decoration-color: #008080; font-weight: bold\">29</span>\n",
              "<span style=\"font-weight: bold\">)</span>\n",
              "</pre>\n"
            ],
            "text/plain": [
              "\u001b[1;35mUser\u001b[0m\u001b[1m(\u001b[0m\n",
              "    \u001b[33mname\u001b[0m=\u001b[32m'Cliff Hanger'\u001b[0m,\n",
              "    \u001b[33mprofession\u001b[0m=\u001b[32m'Rock Climbing Instructor'\u001b[0m,\n",
              "    \u001b[33mjustification\u001b[0m=\u001b[32m\"'Cliff Hanger' evokes the image of hanging on a cliff, directly relevant to his profession as a \u001b[0m\n",
              "\u001b[32mrock climbing instructor.\"\u001b[0m,\n",
              "    \u001b[33mage\u001b[0m=\u001b[1;36m29\u001b[0m\n",
              "\u001b[1m)\u001b[0m\n"
            ]
          },
          "metadata": {},
          "output_type": "display_data"
        },
        {
          "data": {
            "text/html": [
              "<pre style=\"white-space:pre;overflow-x:auto;line-height:normal;font-family:Menlo,'DejaVu Sans Mono',consolas,'Courier New',monospace\"><span style=\"color: #800080; text-decoration-color: #800080; font-weight: bold\">User</span><span style=\"font-weight: bold\">(</span>\n",
              "    <span style=\"color: #808000; text-decoration-color: #808000\">name</span>=<span style=\"color: #008000; text-decoration-color: #008000\">'Sue Yu'</span>,\n",
              "    <span style=\"color: #808000; text-decoration-color: #808000\">profession</span>=<span style=\"color: #008000; text-decoration-color: #008000\">'Lawyer'</span>,\n",
              "    <span style=\"color: #808000; text-decoration-color: #808000\">justification</span>=<span style=\"color: #008000; text-decoration-color: #008000\">\"'Sue Yu,' sounding like 'sue you,' is fitting for a lawyer who frequently engages in legal </span>\n",
              "<span style=\"color: #008000; text-decoration-color: #008000\">actions or lawsuits.\"</span>,\n",
              "    <span style=\"color: #808000; text-decoration-color: #808000\">age</span>=<span style=\"color: #008080; text-decoration-color: #008080; font-weight: bold\">42</span>\n",
              "<span style=\"font-weight: bold\">)</span>\n",
              "</pre>\n"
            ],
            "text/plain": [
              "\u001b[1;35mUser\u001b[0m\u001b[1m(\u001b[0m\n",
              "    \u001b[33mname\u001b[0m=\u001b[32m'Sue Yu'\u001b[0m,\n",
              "    \u001b[33mprofession\u001b[0m=\u001b[32m'Lawyer'\u001b[0m,\n",
              "    \u001b[33mjustification\u001b[0m=\u001b[32m\"'Sue Yu,' sounding like 'sue you,' is fitting for a lawyer who frequently engages in legal \u001b[0m\n",
              "\u001b[32mactions or lawsuits.\"\u001b[0m,\n",
              "    \u001b[33mage\u001b[0m=\u001b[1;36m42\u001b[0m\n",
              "\u001b[1m)\u001b[0m\n"
            ]
          },
          "metadata": {},
          "output_type": "display_data"
        },
        {
          "data": {
            "text/html": [
              "<pre style=\"white-space:pre;overflow-x:auto;line-height:normal;font-family:Menlo,'DejaVu Sans Mono',consolas,'Courier New',monospace\"><span style=\"color: #800080; text-decoration-color: #800080; font-weight: bold\">User</span><span style=\"font-weight: bold\">(</span>\n",
              "    <span style=\"color: #808000; text-decoration-color: #808000\">name</span>=<span style=\"color: #008000; text-decoration-color: #008000\">'Crystal Clear'</span>,\n",
              "    <span style=\"color: #808000; text-decoration-color: #808000\">profession</span>=<span style=\"color: #008000; text-decoration-color: #008000\">'Window Cleaner'</span>,\n",
              "    <span style=\"color: #808000; text-decoration-color: #808000\">justification</span>=<span style=\"color: #008000; text-decoration-color: #008000\">\"'Crystal Clear' as a name is ideal for a professional window cleaner, since the desired result </span>\n",
              "<span style=\"color: #008000; text-decoration-color: #008000\">of their work is crystal clear windows.\"</span>,\n",
              "    <span style=\"color: #808000; text-decoration-color: #808000\">age</span>=<span style=\"color: #008080; text-decoration-color: #008080; font-weight: bold\">26</span>\n",
              "<span style=\"font-weight: bold\">)</span>\n",
              "</pre>\n"
            ],
            "text/plain": [
              "\u001b[1;35mUser\u001b[0m\u001b[1m(\u001b[0m\n",
              "    \u001b[33mname\u001b[0m=\u001b[32m'Crystal Clear'\u001b[0m,\n",
              "    \u001b[33mprofession\u001b[0m=\u001b[32m'Window Cleaner'\u001b[0m,\n",
              "    \u001b[33mjustification\u001b[0m=\u001b[32m\"'Crystal Clear' as a name is ideal for a professional window cleaner, since the desired result \u001b[0m\n",
              "\u001b[32mof their work is crystal clear windows.\"\u001b[0m,\n",
              "    \u001b[33mage\u001b[0m=\u001b[1;36m26\u001b[0m\n",
              "\u001b[1m)\u001b[0m\n"
            ]
          },
          "metadata": {},
          "output_type": "display_data"
        }
      ],
      "source": [
        "inference_provider = \"openai\"   # \"openai\" or \"groq\"\n",
        "\n",
        "class User(BaseModel):\n",
        "    name: str = Field(description=\"Realistic full name (an aptronym) of the user.\")\n",
        "    profession: str = Field(description=\"Profession of the user.\")\n",
        "    justification: str = Field(description=\"Explanation of why this name is an aptronym.\")\n",
        "    age: int = Field(description=\"Age of the user.\")\n",
        "\n",
        "\n",
        "\n",
        "client = instructor.from_openai(openai.OpenAI()) if inference_provider == \"openai\" else instructor.from_groq(groq.Groq())\n",
        "users = client.chat.completions.create(\n",
        "    model=\"llama3-70b-8192\" if inference_provider == \"groq\" else \"gpt-4-turbo\",\n",
        "    messages=[\n",
        "        {\"role\": \"user\", \"content\": \"Create synthetic data for 5 users\"},\n",
        "    ],\n",
        "    response_model=List[User],\n",
        "    temperature=1,\n",
        ")\n",
        "\n",
        "for user in users:\n",
        "    rprint(user)\n"
      ]
    }
  ],
  "metadata": {
    "colab": {
      "provenance": []
    },
    "kernelspec": {
      "display_name": "Python 3",
      "name": "python3"
    },
    "language_info": {
      "codemirror_mode": {
        "name": "ipython",
        "version": 3
      },
      "file_extension": ".py",
      "mimetype": "text/x-python",
      "name": "python",
      "nbconvert_exporter": "python",
      "pygments_lexer": "ipython3",
      "version": "3.12.2"
    }
  },
  "nbformat": 4,
  "nbformat_minor": 0
}
