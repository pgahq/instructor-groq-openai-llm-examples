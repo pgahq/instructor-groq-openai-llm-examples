{
  "cells": [
    {
      "cell_type": "markdown",
      "metadata": {
        "id": "ChQ4YaZHvYbR"
      },
      "source": [
        "## Overview\n",
        "\n",
        "This notebook shows how to use Instructor to generate a list of objects.\n",
        "\n",
        "Note: this notebook assumes you're using Google Colab. You can safely edit / play here. Or go to `File` -> `Save a copy in Google Drive` to make your own version.\n",
        "\n"
      ]
    },
    {
      "cell_type": "code",
      "execution_count": 1,
      "metadata": {
        "id": "7j-wjRULjwc4"
      },
      "outputs": [],
      "source": [
        "%%capture\n",
        "!pip install instructor groq openai"
      ]
    },
    {
      "cell_type": "markdown",
      "metadata": {
        "id": "tA_GryIio4JN"
      },
      "source": [
        "On the left, click the key and set two secrets with your keys. Be sure to enable \"Notebook access\" for them. This is how Google Colab works...you're not sharing your keys with anyone.\n",
        "\n",
        "OPENAI_API_KEY\n",
        "\n",
        "GROQ_API_KEY"
      ]
    },
    {
      "cell_type": "code",
      "execution_count": 2,
      "metadata": {
        "id": "M9Om0C2YmGGj"
      },
      "outputs": [
        {
          "ename": "ModuleNotFoundError",
          "evalue": "No module named 'google'",
          "output_type": "error",
          "traceback": [
            "\u001b[0;31m---------------------------------------------------------------------------\u001b[0m",
            "\u001b[0;31mModuleNotFoundError\u001b[0m                       Traceback (most recent call last)",
            "Cell \u001b[0;32mIn[2], line 7\u001b[0m\n\u001b[1;32m      5\u001b[0m \u001b[38;5;28;01mfrom\u001b[39;00m \u001b[38;5;21;01mpydantic\u001b[39;00m \u001b[38;5;28;01mimport\u001b[39;00m BaseModel, Field\n\u001b[1;32m      6\u001b[0m \u001b[38;5;28;01mfrom\u001b[39;00m \u001b[38;5;21;01mrich\u001b[39;00m \u001b[38;5;28;01mimport\u001b[39;00m \u001b[38;5;28mprint\u001b[39m \u001b[38;5;28;01mas\u001b[39;00m rprint\n\u001b[0;32m----> 7\u001b[0m \u001b[38;5;28;01mfrom\u001b[39;00m \u001b[38;5;21;01mgoogle\u001b[39;00m\u001b[38;5;21;01m.\u001b[39;00m\u001b[38;5;21;01mcolab\u001b[39;00m \u001b[38;5;28;01mimport\u001b[39;00m userdata\n\u001b[1;32m      8\u001b[0m \u001b[38;5;28;01mimport\u001b[39;00m \u001b[38;5;21;01mos\u001b[39;00m\n\u001b[1;32m     10\u001b[0m os\u001b[38;5;241m.\u001b[39menviron[\u001b[38;5;124m'\u001b[39m\u001b[38;5;124mOPENAI_API_KEY\u001b[39m\u001b[38;5;124m'\u001b[39m] \u001b[38;5;241m=\u001b[39m \u001b[38;5;124m'\u001b[39m\u001b[38;5;124m'\u001b[39m \u001b[38;5;129;01mor\u001b[39;00m userdata\u001b[38;5;241m.\u001b[39mget(\u001b[38;5;124m'\u001b[39m\u001b[38;5;124mOPENAI_API_KEY\u001b[39m\u001b[38;5;124m'\u001b[39m) \u001b[38;5;66;03m# or put your key in the '' on this line\u001b[39;00m\n",
            "\u001b[0;31mModuleNotFoundError\u001b[0m: No module named 'google'"
          ]
        }
      ],
      "source": [
        "import openai\n",
        "import groq\n",
        "import instructor\n",
        "from typing import List\n",
        "from pydantic import BaseModel, Field\n",
        "from rich import print as rprint\n",
        "from google.colab import userdata\n",
        "import os\n",
        "\n",
        "os.environ['OPENAI_API_KEY'] = '' or userdata.get('OPENAI_API_KEY') # or put your key in the '' on this line\n",
        "os.environ['GROQ_API_KEY'] = '' or userdata.get('GROQ_API_KEY')"
      ]
    },
    {
      "cell_type": "markdown",
      "metadata": {
        "id": "N2xtRfmD6pgH"
      },
      "source": [
        "Now to the cool stuff..."
      ]
    },
    {
      "cell_type": "code",
      "execution_count": 3,
      "metadata": {
        "colab": {
          "base_uri": "https://localhost:8080/",
          "height": 595
        },
        "id": "50rSTdEq6nr6",
        "outputId": "8223f3fe-33ce-40f8-eccd-c7d2733b021e"
      },
      "outputs": [
        {
          "data": {
            "text/html": [
              "<pre style=\"white-space:pre;overflow-x:auto;line-height:normal;font-family:Menlo,'DejaVu Sans Mono',consolas,'Courier New',monospace\"><span style=\"color: #800080; text-decoration-color: #800080; font-weight: bold\">User</span><span style=\"font-weight: bold\">(</span>\n",
              "    <span style=\"color: #808000; text-decoration-color: #808000\">name</span>=<span style=\"color: #008000; text-decoration-color: #008000\">'Rose Gardner'</span>,\n",
              "    <span style=\"color: #808000; text-decoration-color: #808000\">profession</span>=<span style=\"color: #008000; text-decoration-color: #008000\">'Gardener'</span>,\n",
              "    <span style=\"color: #808000; text-decoration-color: #808000\">justification</span>=<span style=\"color: #008000; text-decoration-color: #008000\">'Her last name, Gardner, directly relates to her profession which involves cultivating plants in </span>\n",
              "<span style=\"color: #008000; text-decoration-color: #008000\">gardens, making it a fitting aptronym.'</span>,\n",
              "    <span style=\"color: #808000; text-decoration-color: #808000\">age</span>=<span style=\"color: #008080; text-decoration-color: #008080; font-weight: bold\">42</span>\n",
              "<span style=\"font-weight: bold\">)</span>\n",
              "</pre>\n"
            ],
            "text/plain": [
              "\u001b[1;35mUser\u001b[0m\u001b[1m(\u001b[0m\n",
              "    \u001b[33mname\u001b[0m=\u001b[32m'Rose Gardner'\u001b[0m,\n",
              "    \u001b[33mprofession\u001b[0m=\u001b[32m'Gardener'\u001b[0m,\n",
              "    \u001b[33mjustification\u001b[0m=\u001b[32m'Her last name, Gardner, directly relates to her profession which involves cultivating plants in \u001b[0m\n",
              "\u001b[32mgardens, making it a fitting aptronym.'\u001b[0m,\n",
              "    \u001b[33mage\u001b[0m=\u001b[1;36m42\u001b[0m\n",
              "\u001b[1m)\u001b[0m\n"
            ]
          },
          "metadata": {},
          "output_type": "display_data"
        },
        {
          "data": {
            "text/html": [
              "<pre style=\"white-space:pre;overflow-x:auto;line-height:normal;font-family:Menlo,'DejaVu Sans Mono',consolas,'Courier New',monospace\"><span style=\"color: #800080; text-decoration-color: #800080; font-weight: bold\">User</span><span style=\"font-weight: bold\">(</span>\n",
              "    <span style=\"color: #808000; text-decoration-color: #808000\">name</span>=<span style=\"color: #008000; text-decoration-color: #008000\">'Cliff Rockwell'</span>,\n",
              "    <span style=\"color: #808000; text-decoration-color: #808000\">profession</span>=<span style=\"color: #008000; text-decoration-color: #008000\">'Geologist'</span>,\n",
              "    <span style=\"color: #808000; text-decoration-color: #808000\">justification</span>=<span style=\"color: #008000; text-decoration-color: #008000\">'His name, Cliff Rockwell, humorously aligns with his job as a geologist, indicating a strong </span>\n",
              "<span style=\"color: #008000; text-decoration-color: #008000\">connection with rock formations and cliffs.'</span>,\n",
              "    <span style=\"color: #808000; text-decoration-color: #808000\">age</span>=<span style=\"color: #008080; text-decoration-color: #008080; font-weight: bold\">37</span>\n",
              "<span style=\"font-weight: bold\">)</span>\n",
              "</pre>\n"
            ],
            "text/plain": [
              "\u001b[1;35mUser\u001b[0m\u001b[1m(\u001b[0m\n",
              "    \u001b[33mname\u001b[0m=\u001b[32m'Cliff Rockwell'\u001b[0m,\n",
              "    \u001b[33mprofession\u001b[0m=\u001b[32m'Geologist'\u001b[0m,\n",
              "    \u001b[33mjustification\u001b[0m=\u001b[32m'His name, Cliff Rockwell, humorously aligns with his job as a geologist, indicating a strong \u001b[0m\n",
              "\u001b[32mconnection with rock formations and cliffs.'\u001b[0m,\n",
              "    \u001b[33mage\u001b[0m=\u001b[1;36m37\u001b[0m\n",
              "\u001b[1m)\u001b[0m\n"
            ]
          },
          "metadata": {},
          "output_type": "display_data"
        },
        {
          "data": {
            "text/html": [
              "<pre style=\"white-space:pre;overflow-x:auto;line-height:normal;font-family:Menlo,'DejaVu Sans Mono',consolas,'Courier New',monospace\"><span style=\"color: #800080; text-decoration-color: #800080; font-weight: bold\">User</span><span style=\"font-weight: bold\">(</span>\n",
              "    <span style=\"color: #808000; text-decoration-color: #808000\">name</span>=<span style=\"color: #008000; text-decoration-color: #008000\">'Dustin Broom'</span>,\n",
              "    <span style=\"color: #808000; text-decoration-color: #808000\">profession</span>=<span style=\"color: #008000; text-decoration-color: #008000\">'Janitor'</span>,\n",
              "    <span style=\"color: #808000; text-decoration-color: #808000\">justification</span>=<span style=\"color: #008000; text-decoration-color: #008000\">\"The name 'Dustin Broom' playfully matches his profession, suggesting his daily interaction with </span>\n",
              "<span style=\"color: #008000; text-decoration-color: #008000\">dust and brooms.\"</span>,\n",
              "    <span style=\"color: #808000; text-decoration-color: #808000\">age</span>=<span style=\"color: #008080; text-decoration-color: #008080; font-weight: bold\">28</span>\n",
              "<span style=\"font-weight: bold\">)</span>\n",
              "</pre>\n"
            ],
            "text/plain": [
              "\u001b[1;35mUser\u001b[0m\u001b[1m(\u001b[0m\n",
              "    \u001b[33mname\u001b[0m=\u001b[32m'Dustin Broom'\u001b[0m,\n",
              "    \u001b[33mprofession\u001b[0m=\u001b[32m'Janitor'\u001b[0m,\n",
              "    \u001b[33mjustification\u001b[0m=\u001b[32m\"The\u001b[0m\u001b[32m name 'Dustin Broom' playfully matches his profession, suggesting his daily interaction with \u001b[0m\n",
              "\u001b[32mdust and brooms.\"\u001b[0m,\n",
              "    \u001b[33mage\u001b[0m=\u001b[1;36m28\u001b[0m\n",
              "\u001b[1m)\u001b[0m\n"
            ]
          },
          "metadata": {},
          "output_type": "display_data"
        },
        {
          "data": {
            "text/html": [
              "<pre style=\"white-space:pre;overflow-x:auto;line-height:normal;font-family:Menlo,'DejaVu Sans Mono',consolas,'Courier New',monospace\"><span style=\"color: #800080; text-decoration-color: #800080; font-weight: bold\">User</span><span style=\"font-weight: bold\">(</span>\n",
              "    <span style=\"color: #808000; text-decoration-color: #808000\">name</span>=<span style=\"color: #008000; text-decoration-color: #008000\">'Paige Turner'</span>,\n",
              "    <span style=\"color: #808000; text-decoration-color: #808000\">profession</span>=<span style=\"color: #008000; text-decoration-color: #008000\">'Librarian'</span>,\n",
              "    <span style=\"color: #808000; text-decoration-color: #808000\">justification</span>=<span style=\"color: #008000; text-decoration-color: #008000\">\"The name 'Paige Turner' cleverly reflects her occupation in a library, where turning pages is a </span>\n",
              "<span style=\"color: #008000; text-decoration-color: #008000\">common activity.\"</span>,\n",
              "    <span style=\"color: #808000; text-decoration-color: #808000\">age</span>=<span style=\"color: #008080; text-decoration-color: #008080; font-weight: bold\">33</span>\n",
              "<span style=\"font-weight: bold\">)</span>\n",
              "</pre>\n"
            ],
            "text/plain": [
              "\u001b[1;35mUser\u001b[0m\u001b[1m(\u001b[0m\n",
              "    \u001b[33mname\u001b[0m=\u001b[32m'Paige Turner'\u001b[0m,\n",
              "    \u001b[33mprofession\u001b[0m=\u001b[32m'Librarian'\u001b[0m,\n",
              "    \u001b[33mjustification\u001b[0m=\u001b[32m\"The\u001b[0m\u001b[32m name 'Paige Turner' cleverly reflects her occupation in a library, where turning pages is a \u001b[0m\n",
              "\u001b[32mcommon activity.\"\u001b[0m,\n",
              "    \u001b[33mage\u001b[0m=\u001b[1;36m33\u001b[0m\n",
              "\u001b[1m)\u001b[0m\n"
            ]
          },
          "metadata": {},
          "output_type": "display_data"
        },
        {
          "data": {
            "text/html": [
              "<pre style=\"white-space:pre;overflow-x:auto;line-height:normal;font-family:Menlo,'DejaVu Sans Mono',consolas,'Courier New',monospace\"><span style=\"color: #800080; text-decoration-color: #800080; font-weight: bold\">User</span><span style=\"font-weight: bold\">(</span>\n",
              "    <span style=\"color: #808000; text-decoration-color: #808000\">name</span>=<span style=\"color: #008000; text-decoration-color: #008000\">'Marshall Law'</span>,\n",
              "    <span style=\"color: #808000; text-decoration-color: #808000\">profession</span>=<span style=\"color: #008000; text-decoration-color: #008000\">'Police Officer'</span>,\n",
              "    <span style=\"color: #808000; text-decoration-color: #808000\">justification</span>=<span style=\"color: #008000; text-decoration-color: #008000\">\"'Marshall Law' sounds similar to 'martial law', linking his name to law enforcement and </span>\n",
              "<span style=\"color: #008000; text-decoration-color: #008000\">authority, which fits his role as a police officer.\"</span>,\n",
              "    <span style=\"color: #808000; text-decoration-color: #808000\">age</span>=<span style=\"color: #008080; text-decoration-color: #008080; font-weight: bold\">45</span>\n",
              "<span style=\"font-weight: bold\">)</span>\n",
              "</pre>\n"
            ],
            "text/plain": [
              "\u001b[1;35mUser\u001b[0m\u001b[1m(\u001b[0m\n",
              "    \u001b[33mname\u001b[0m=\u001b[32m'Marshall Law'\u001b[0m,\n",
              "    \u001b[33mprofession\u001b[0m=\u001b[32m'Police Officer'\u001b[0m,\n",
              "    \u001b[33mjustification\u001b[0m=\u001b[32m\"'Marshall Law' sounds similar to 'martial law', linking his name to law enforcement and \u001b[0m\n",
              "\u001b[32mauthority, which fits his role as a police officer.\"\u001b[0m,\n",
              "    \u001b[33mage\u001b[0m=\u001b[1;36m45\u001b[0m\n",
              "\u001b[1m)\u001b[0m\n"
            ]
          },
          "metadata": {},
          "output_type": "display_data"
        }
      ],
      "source": [
        "inference_provider = \"openai\"   # \"openai\" or \"groq\"\n",
        "\n",
        "class User(BaseModel):\n",
        "    name: str = Field(description=\"Realistic full name (an aptronym) of the user.\")\n",
        "    profession: str = Field(description=\"Profession of the user.\")\n",
        "    justification: str = Field(description=\"Explanation of why this name is an aptronym.\")\n",
        "    age: int = Field(description=\"Age of the user.\")\n",
        "\n",
        "\n",
        "\n",
        "client = instructor.from_openai(openai.OpenAI()) if inference_provider == \"openai\" else instructor.from_groq(groq.Groq())\n",
        "users = client.chat.completions.create(\n",
        "    model=\"llama3-70b-8192\" if inference_provider == \"groq\" else \"gpt-4-turbo\",\n",
        "    messages=[\n",
        "        {\"role\": \"user\", \"content\": \"Create synthetic data for 5 users\"},\n",
        "    ],\n",
        "    response_model=List[User],\n",
        "    temperature=1,\n",
        ")\n",
        "\n",
        "for user in users:\n",
        "    rprint(user)\n"
      ]
    }
  ],
  "metadata": {
    "colab": {
      "provenance": []
    },
    "kernelspec": {
      "display_name": "Python 3",
      "name": "python3"
    },
    "language_info": {
      "codemirror_mode": {
        "name": "ipython",
        "version": 3
      },
      "file_extension": ".py",
      "mimetype": "text/x-python",
      "name": "python",
      "nbconvert_exporter": "python",
      "pygments_lexer": "ipython3",
      "version": "3.12.2"
    }
  },
  "nbformat": 4,
  "nbformat_minor": 0
}
