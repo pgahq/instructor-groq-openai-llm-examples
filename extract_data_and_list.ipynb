{
  "nbformat": 4,
  "nbformat_minor": 0,
  "metadata": {
    "colab": {
      "provenance": []
    },
    "kernelspec": {
      "name": "python3",
      "display_name": "Python 3"
    },
    "language_info": {
      "name": "python"
    }
  },
  "cells": [
    {
      "cell_type": "markdown",
      "source": [
        "## First things first...\n",
        "\n",
        "You can use Instructor for many things. Here, we will use it to extract structured info from unstructured text.\n",
        "\n",
        "Note: this notebook assumes you're using Google Colab. You can safely edit / play here. Or go to `File` -> `Save a copy in Google Drive` to make your own version."
      ],
      "metadata": {
        "id": "ChQ4YaZHvYbR"
      }
    },
    {
      "cell_type": "code",
      "execution_count": 28,
      "metadata": {
        "id": "7j-wjRULjwc4"
      },
      "outputs": [],
      "source": [
        "%%capture\n",
        "!pip install instructor groq openai"
      ]
    },
    {
      "cell_type": "markdown",
      "source": [
        "On the left, click the key and set two secrets with your keys. Be sure to enable \"Notebook access\" for them. This is how Google Colab works...you're not sharing your keys with anyone.\n",
        "\n",
        "OPENAI_API_KEY\n",
        "\n",
        "GROQ_API_KEY"
      ],
      "metadata": {
        "id": "tA_GryIio4JN"
      }
    },
    {
      "cell_type": "code",
      "source": [
        "import openai\n",
        "import groq\n",
        "import instructor\n",
        "from typing import List, Optional\n",
        "from pydantic import BaseModel, Field\n",
        "from google.colab import userdata\n",
        "import os\n",
        "\n",
        "os.environ['OPENAI_API_KEY'] = '' or userdata.get('OPENAI_API_KEY') # or put your key in the '' on this line\n",
        "os.environ['GROQ_API_KEY'] = '' or userdata.get('GROQ_API_KEY')"
      ],
      "metadata": {
        "id": "M9Om0C2YmGGj"
      },
      "execution_count": 29,
      "outputs": []
    },
    {
      "cell_type": "markdown",
      "source": [
        "We'll feed the LLM a story and an Instructor model. First, the story..."
      ],
      "metadata": {
        "id": "N2xtRfmD6pgH"
      }
    },
    {
      "cell_type": "code",
      "source": [
        "story_text = f\"\"\"\n",
        "**The Mysterious Island**\n",
        "\n",
        "Dr. Maria Rodriguez, a renowned botanist, stood at the bow of the small sailboat, her eyes fixed on the uncharted island rising from the sea. She was joined by her team: Jax, a rugged sailor with a penchant for adventure; Dr. Sophia Patel, a brilliant chemist; Ethan, a tech-savvy engineer; and Maya, a young and ambitious journalist.\n",
        "\n",
        "Their mission was to explore the island, rumored to be home to a rare, cancer-fighting plant. As they disembarked, the warm sun on their skin and the sweet scent of blooming flowers enveloped them.\n",
        "\n",
        "\"Alright, team,\" Maria said, \"let's get to work. Sophia, can you start collecting plant samples? Ethan, set up the lab equipment. Maya, see if you can find any signs of previous visitors. Jax, take point on security. And I'll start surveying the island's terrain.\"\n",
        "\n",
        "As they dispersed, Maya stumbled upon a cryptic message scrawled on a palm tree: \"Turn back while you still can.\" She showed it to the others, but they were undeterred.\n",
        "\n",
        "That night, as they sat around a crackling campfire, Sophia announced that she had found a strange, glowing plant with remarkable healing properties. But their celebration was short-lived, as a loud rumble shook the island, and a massive stone door hidden in the jungle floor swung open, revealing an ancient temple.\n",
        "\n",
        "\"What have we stumbled into?\" Ethan asked, his eyes wide with wonder.\n",
        "\n",
        "As they cautiously entered the temple, they discovered ancient artifacts and mysterious symbols etched into the walls. Suddenly, the air was filled with an otherworldly energy, and the team found themselves face to face with an ancient, powerful entity.\n",
        "\n",
        "\"Who are you?\" Maria asked, her voice steady.\n",
        "\n",
        "\"We have been waiting for you,\" the entity replied. \"You have freed us from our slumber. We will grant you one wish, but be warned: be careful what you wish for.\"\n",
        "\n",
        "The team exchanged nervous glances, weighing the risks and possibilities. Maya spoke up, \"We wish for the knowledge and power to heal the world's diseases, but only if used for the greater good.\"\n",
        "\n",
        "The entity nodded, and with a burst of light, the team was transformed, their minds flooded with ancient secrets and their bodies infused with the island's mystical energy. As they sailed away from the island, they knew that their lives – and the fate of humanity – would never be the same.\n",
        "\"\"\""
      ],
      "metadata": {
        "id": "50rSTdEq6nr6"
      },
      "execution_count": 30,
      "outputs": []
    },
    {
      "cell_type": "markdown",
      "source": [
        "## Extract a simple list\n",
        "Extract a List of `Quote` objects i.e. things that were explicitly said in the story."
      ],
      "metadata": {
        "id": "mv9k3g-n5_Oh"
      }
    },
    {
      "cell_type": "code",
      "source": [
        "class Quote(BaseModel):\n",
        "    speaker: str = Field(description=\"Who said the quote.\")\n",
        "    quote: str = Field(description=\"Verbatim quote from the story.\")\n",
        "\n",
        "inference_provider = \"openai\"   # \"openai\" or \"groq\"\n",
        "\n",
        "client = instructor.from_openai(openai.OpenAI()) if inference_provider == \"openai\" else instructor.from_groq(groq.Groq())\n",
        "quotes = client.chat.completions.create(\n",
        "    model=\"llama3-70b-8192\" if inference_provider == \"groq\" else \"gpt-4-turbo\",\n",
        "    messages=[\n",
        "        {\"role\": \"user\", \"content\": story_text},\n",
        "    ],\n",
        "    response_model=List[Quote],   # this is the Instructor magic\n",
        "    temperature=0.5,\n",
        ")\n",
        "\n",
        "for quote in quotes:\n",
        "    from rich import print as rprint\n",
        "    rprint(quote)"
      ],
      "metadata": {
        "colab": {
          "base_uri": "https://localhost:8080/",
          "height": 314
        },
        "id": "AcRehWRJ3EaJ",
        "outputId": "51ff6c82-fffc-4178-94f0-5ff17841eb83"
      },
      "execution_count": 31,
      "outputs": [
        {
          "output_type": "display_data",
          "data": {
            "text/plain": [
              "\u001b[1;35mQuote\u001b[0m\u001b[1m(\u001b[0m\n",
              "    \u001b[33mspeaker\u001b[0m=\u001b[32m'Dr. Maria Rodriguez'\u001b[0m,\n",
              "    \u001b[33mquote\u001b[0m=\u001b[32m\"Alright\u001b[0m\u001b[32m, team, let's get to work. Sophia, can you start collecting plant samples? Ethan, set up the lab \u001b[0m\n",
              "\u001b[32mequipment. Maya, see if you can find any signs of previous visitors. Jax, take point on security. And I'll start \u001b[0m\n",
              "\u001b[32msurveying the island's terrain.\"\u001b[0m\n",
              "\u001b[1m)\u001b[0m\n"
            ],
            "text/html": [
              "<pre style=\"white-space:pre;overflow-x:auto;line-height:normal;font-family:Menlo,'DejaVu Sans Mono',consolas,'Courier New',monospace\"><span style=\"color: #800080; text-decoration-color: #800080; font-weight: bold\">Quote</span><span style=\"font-weight: bold\">(</span>\n",
              "    <span style=\"color: #808000; text-decoration-color: #808000\">speaker</span>=<span style=\"color: #008000; text-decoration-color: #008000\">'Dr. Maria Rodriguez'</span>,\n",
              "    <span style=\"color: #808000; text-decoration-color: #808000\">quote</span>=<span style=\"color: #008000; text-decoration-color: #008000\">\"Alright, team, let's get to work. Sophia, can you start collecting plant samples? Ethan, set up the lab </span>\n",
              "<span style=\"color: #008000; text-decoration-color: #008000\">equipment. Maya, see if you can find any signs of previous visitors. Jax, take point on security. And I'll start </span>\n",
              "<span style=\"color: #008000; text-decoration-color: #008000\">surveying the island's terrain.\"</span>\n",
              "<span style=\"font-weight: bold\">)</span>\n",
              "</pre>\n"
            ]
          },
          "metadata": {}
        },
        {
          "output_type": "display_data",
          "data": {
            "text/plain": [
              "\u001b[1;35mQuote\u001b[0m\u001b[1m(\u001b[0m\u001b[33mspeaker\u001b[0m=\u001b[32m'Ethan'\u001b[0m, \u001b[33mquote\u001b[0m=\u001b[32m'What have we stumbled into?'\u001b[0m\u001b[1m)\u001b[0m\n"
            ],
            "text/html": [
              "<pre style=\"white-space:pre;overflow-x:auto;line-height:normal;font-family:Menlo,'DejaVu Sans Mono',consolas,'Courier New',monospace\"><span style=\"color: #800080; text-decoration-color: #800080; font-weight: bold\">Quote</span><span style=\"font-weight: bold\">(</span><span style=\"color: #808000; text-decoration-color: #808000\">speaker</span>=<span style=\"color: #008000; text-decoration-color: #008000\">'Ethan'</span>, <span style=\"color: #808000; text-decoration-color: #808000\">quote</span>=<span style=\"color: #008000; text-decoration-color: #008000\">'What have we stumbled into?'</span><span style=\"font-weight: bold\">)</span>\n",
              "</pre>\n"
            ]
          },
          "metadata": {}
        },
        {
          "output_type": "display_data",
          "data": {
            "text/plain": [
              "\u001b[1;35mQuote\u001b[0m\u001b[1m(\u001b[0m\u001b[33mspeaker\u001b[0m=\u001b[32m'Dr. Maria Rodriguez'\u001b[0m, \u001b[33mquote\u001b[0m=\u001b[32m'Who are you?'\u001b[0m\u001b[1m)\u001b[0m\n"
            ],
            "text/html": [
              "<pre style=\"white-space:pre;overflow-x:auto;line-height:normal;font-family:Menlo,'DejaVu Sans Mono',consolas,'Courier New',monospace\"><span style=\"color: #800080; text-decoration-color: #800080; font-weight: bold\">Quote</span><span style=\"font-weight: bold\">(</span><span style=\"color: #808000; text-decoration-color: #808000\">speaker</span>=<span style=\"color: #008000; text-decoration-color: #008000\">'Dr. Maria Rodriguez'</span>, <span style=\"color: #808000; text-decoration-color: #808000\">quote</span>=<span style=\"color: #008000; text-decoration-color: #008000\">'Who are you?'</span><span style=\"font-weight: bold\">)</span>\n",
              "</pre>\n"
            ]
          },
          "metadata": {}
        },
        {
          "output_type": "display_data",
          "data": {
            "text/plain": [
              "\u001b[1;35mQuote\u001b[0m\u001b[1m(\u001b[0m\n",
              "    \u001b[33mspeaker\u001b[0m=\u001b[32m'Ancient entity'\u001b[0m,\n",
              "    \u001b[33mquote\u001b[0m=\u001b[32m'We have been waiting for you. You have freed us from our slumber. We will grant you one wish, but be \u001b[0m\n",
              "\u001b[32mwarned: be careful what you wish for.'\u001b[0m\n",
              "\u001b[1m)\u001b[0m\n"
            ],
            "text/html": [
              "<pre style=\"white-space:pre;overflow-x:auto;line-height:normal;font-family:Menlo,'DejaVu Sans Mono',consolas,'Courier New',monospace\"><span style=\"color: #800080; text-decoration-color: #800080; font-weight: bold\">Quote</span><span style=\"font-weight: bold\">(</span>\n",
              "    <span style=\"color: #808000; text-decoration-color: #808000\">speaker</span>=<span style=\"color: #008000; text-decoration-color: #008000\">'Ancient entity'</span>,\n",
              "    <span style=\"color: #808000; text-decoration-color: #808000\">quote</span>=<span style=\"color: #008000; text-decoration-color: #008000\">'We have been waiting for you. You have freed us from our slumber. We will grant you one wish, but be </span>\n",
              "<span style=\"color: #008000; text-decoration-color: #008000\">warned: be careful what you wish for.'</span>\n",
              "<span style=\"font-weight: bold\">)</span>\n",
              "</pre>\n"
            ]
          },
          "metadata": {}
        },
        {
          "output_type": "display_data",
          "data": {
            "text/plain": [
              "\u001b[1;35mQuote\u001b[0m\u001b[1m(\u001b[0m\n",
              "    \u001b[33mspeaker\u001b[0m=\u001b[32m'Maya'\u001b[0m,\n",
              "    \u001b[33mquote\u001b[0m=\u001b[32m\"We\u001b[0m\u001b[32m wish for the knowledge and power to heal the world's diseases, but only if used for the greater \u001b[0m\n",
              "\u001b[32mgood.\"\u001b[0m\n",
              "\u001b[1m)\u001b[0m\n"
            ],
            "text/html": [
              "<pre style=\"white-space:pre;overflow-x:auto;line-height:normal;font-family:Menlo,'DejaVu Sans Mono',consolas,'Courier New',monospace\"><span style=\"color: #800080; text-decoration-color: #800080; font-weight: bold\">Quote</span><span style=\"font-weight: bold\">(</span>\n",
              "    <span style=\"color: #808000; text-decoration-color: #808000\">speaker</span>=<span style=\"color: #008000; text-decoration-color: #008000\">'Maya'</span>,\n",
              "    <span style=\"color: #808000; text-decoration-color: #808000\">quote</span>=<span style=\"color: #008000; text-decoration-color: #008000\">\"We wish for the knowledge and power to heal the world's diseases, but only if used for the greater </span>\n",
              "<span style=\"color: #008000; text-decoration-color: #008000\">good.\"</span>\n",
              "<span style=\"font-weight: bold\">)</span>\n",
              "</pre>\n"
            ]
          },
          "metadata": {}
        }
      ]
    },
    {
      "cell_type": "markdown",
      "source": [
        "## Extract using a more complicated model\n",
        "Here, `Story` contains a List of `Person` objects in addition to other fields.\n",
        "\n",
        "Note that we've asked the model to be creative with several things in the `Person` model. This can lead to hallucinations - which is either good or bad, depending on what you want the model to do. You can also see how `Optional` affects this."
      ],
      "metadata": {
        "id": "b-8OFMAl5mq6"
      }
    },
    {
      "cell_type": "code",
      "source": [
        "class Person(BaseModel):\n",
        "    name: str = Field(description=\"Character from the story.\")\n",
        "    backstory: str = Field(description=\"Backstory of the character.\")\n",
        "    perspective: str = Field(description=\"Tell the story through the character's eyes.\")\n",
        "    hair_color: str = Field(description=\"The character's hair color only if mentioned explicitly in the story.\")\n",
        "    favorite_shoes: Optional[str] = Field(description=\"The character's favorite shoe brand only if mentioned explicitly in the story.\")\n",
        "\n",
        "class Story(BaseModel):\n",
        "    story: str = Field(description=\"2-sentence summary\")\n",
        "    title: str = Field(description=\"The title\")\n",
        "    characters: List[Person] = Field(description=\"Characters\")\n",
        "\n",
        "inference_provider = \"openai\"   # \"openai\" or \"groq\"\n",
        "\n",
        "client = instructor.from_openai(openai.OpenAI()) if inference_provider == \"openai\" else instructor.from_groq(groq.Groq())\n",
        "story = client.chat.completions.create(\n",
        "    model=\"llama3-70b-8192\" if inference_provider == \"groq\" else \"gpt-4-turbo\",\n",
        "    messages=[\n",
        "        {\"role\": \"user\", \"content\": story_text},\n",
        "    ],\n",
        "    response_model=Story,\n",
        "    temperature=0.5,\n",
        ")\n",
        "\n",
        "print(story.model_dump_json(indent=4))"
      ],
      "metadata": {
        "colab": {
          "base_uri": "https://localhost:8080/"
        },
        "id": "ZIgDqEiW2u_A",
        "outputId": "78748231-dffb-40e7-9286-0a2583ad3497"
      },
      "execution_count": 33,
      "outputs": [
        {
          "output_type": "stream",
          "name": "stdout",
          "text": [
            "{\n",
            "    \"story\": \"Dr. Maria Rodriguez and her team explore an uncharted island rumored to house a rare cancer-fighting plant. They discover an ancient temple with a powerful entity that grants them mystical powers to heal the world's diseases.\",\n",
            "    \"title\": \"The Mysterious Island\",\n",
            "    \"characters\": [\n",
            "        {\n",
            "            \"name\": \"Dr. Maria Rodriguez\",\n",
            "            \"backstory\": \"A renowned botanist leading a team to explore an uncharted island.\",\n",
            "            \"perspective\": \"She is determined and focused on the mission, leading her team with confidence and curiosity.\",\n",
            "            \"hair_color\": \"not mentioned\",\n",
            "            \"favorite_shoes\": null\n",
            "        },\n",
            "        {\n",
            "            \"name\": \"Jax\",\n",
            "            \"backstory\": \"A rugged sailor with a penchant for adventure, part of Maria's exploration team.\",\n",
            "            \"perspective\": \"Jax is adventurous and always ready to face challenges head-on, keeping the team's safety as his priority.\",\n",
            "            \"hair_color\": \"not mentioned\",\n",
            "            \"favorite_shoes\": null\n",
            "        },\n",
            "        {\n",
            "            \"name\": \"Dr. Sophia Patel\",\n",
            "            \"backstory\": \"A brilliant chemist in Maria's team, tasked with collecting plant samples on the island.\",\n",
            "            \"perspective\": \"Sophia is analytical and excited about the scientific possibilities the island holds.\",\n",
            "            \"hair_color\": \"not mentioned\",\n",
            "            \"favorite_shoes\": null\n",
            "        },\n",
            "        {\n",
            "            \"name\": \"Ethan\",\n",
            "            \"backstory\": \"A tech-savvy engineer who sets up lab equipment for the team's research on the island.\",\n",
            "            \"perspective\": \"Ethan is intrigued by the island's mysteries and uses his technical skills to aid the team's exploration.\",\n",
            "            \"hair_color\": \"not mentioned\",\n",
            "            \"favorite_shoes\": null\n",
            "        },\n",
            "        {\n",
            "            \"name\": \"Maya\",\n",
            "            \"backstory\": \"A young and ambitious journalist documenting the team's expedition.\",\n",
            "            \"perspective\": \"Maya is curious and eager to uncover the island's secrets, contributing to the team's discoveries with her investigative skills.\",\n",
            "            \"hair_color\": \"not mentioned\",\n",
            "            \"favorite_shoes\": null\n",
            "        }\n",
            "    ]\n",
            "}\n"
          ]
        }
      ]
    }
  ]
}