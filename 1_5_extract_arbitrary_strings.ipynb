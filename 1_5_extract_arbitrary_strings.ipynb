{
  "cells": [
    {
      "cell_type": "markdown",
      "metadata": {
        "id": "ChQ4YaZHvYbR"
      },
      "source": [
        "## Summary\n",
        "\n",
        "This notebook shows how to use Instructor to extract structured info from unstructured text. The twist here is that the list of entities to extract is specified at runtime, rather than being hard-coded in the model. This could be turned into an API.\n",
        "\n",
        "Note: this notebook assumes you're using Google Colab. You can safely edit / play here. Or go to `File` -> `Save a copy in Google Drive` to make your own version."
      ]
    },
    {
      "cell_type": "code",
      "execution_count": 21,
      "metadata": {
        "id": "7j-wjRULjwc4"
      },
      "outputs": [],
      "source": [
        "%%capture\n",
        "!pip install instructor groq openai"
      ]
    },
    {
      "cell_type": "markdown",
      "metadata": {
        "id": "tA_GryIio4JN"
      },
      "source": [
        "On the left, click the key and set two secrets with your keys. Be sure to enable \"Notebook access\" for them. This is how Google Colab works...you're not sharing your keys with anyone.\n",
        "\n",
        "OPENAI_API_KEY\n",
        "\n",
        "GROQ_API_KEY"
      ]
    },
    {
      "cell_type": "code",
      "execution_count": 22,
      "metadata": {},
      "outputs": [],
      "source": [
        "import instructor\n",
        "import openai\n",
        "import groq\n",
        "from pydantic import BaseModel, Field\n",
        "from typing import Optional, List\n",
        "import os\n",
        "\n",
        "try:\n",
        "    from google.colab import userdata\n",
        "    os.environ['OPENAI_API_KEY'] = '' or userdata.get('OPENAI_API_KEY') # or put your key in the '' on this line\n",
        "    os.environ['GROQ_API_KEY'] = '' or userdata.get('GROQ_API_KEY')\n",
        "except Exception as e:\n",
        "    # print(e)\n",
        "    pass\n"
      ]
    },
    {
      "cell_type": "code",
      "execution_count": 25,
      "metadata": {
        "colab": {
          "base_uri": "https://localhost:8080/"
        },
        "id": "M9Om0C2YmGGj",
        "outputId": "1620461d-c5b3-4e49-a2fd-ca3f53ca9dd0"
      },
      "outputs": [],
      "source": [
        "inference_provider = \"openai\"   # \"openai\" or \"groq\"\n",
        "client = instructor.from_openai(openai.OpenAI()) if inference_provider == \"openai\" else instructor.from_groq(groq.Groq())\n",
        "\n",
        "def extract_strings(content: str, attribute: List[tuple], model_notes: str = \"\") -> BaseModel:\n",
        "    # Create the annotations and fields dictionaries\n",
        "    annotations = {attr: Optional[str] for attr, _ in attribute}\n",
        "    fields = {attr: Field(description=desc) for attr, desc in attribute}\n",
        "\n",
        "    # Create the ExtractStrings class dynamically with a docstring\n",
        "    ExtractStrings = type('ExtractStrings', (BaseModel,), {\n",
        "        '__annotations__': annotations,\n",
        "        '__doc__': model_notes,\n",
        "        **fields\n",
        "    })\n",
        "\n",
        "    result = client.chat.completions.create(\n",
        "        model=\"llama3-70b-8192\" if inference_provider == \"groq\" else \"gpt-4o\",\n",
        "        response_model=ExtractStrings,\n",
        "        temperature=0.0,\n",
        "        messages=[{\"role\": \"user\", \"content\": content}]\n",
        "    )\n",
        "    return result.model_dump()\n",
        "\n"
      ]
    },
    {
      "cell_type": "markdown",
      "metadata": {},
      "source": [
        "##Let it fly!\n",
        "extract_strings could be turned into an API. Note that this code only returns strings and treats as optional. You could easily extend this to return more structured data."
      ]
    },
    {
      "cell_type": "code",
      "execution_count": 26,
      "metadata": {},
      "outputs": [
        {
          "name": "stdout",
          "output_type": "stream",
          "text": [
            "{'name': 'Jason', 'age': '28', 'email': None}\n"
          ]
        }
      ],
      "source": [
        "fields_to_extract = [\n",
        "    (\"name\", \"Name of the user\"),\n",
        "    (\"age\", \"Age of the user\"),\n",
        "    (\"email\", \"Email of the user\"),\n",
        "]\n",
        "\n",
        "content = \"Jason is the user and he's 25 years older than Rick who was born 3 years ago.\"\n",
        "\n",
        "print(extract_strings(content, fields_to_extract))\n"
      ]
    },
    {
      "cell_type": "code",
      "execution_count": 40,
      "metadata": {},
      "outputs": [
        {
          "name": "stdout",
          "output_type": "stream",
          "text": [
            "{'firstName': 'Mark', 'lastName': 'St. Anthony'}\n",
            "{'firstName': 'M.', 'lastName': 'St. Anthony'}\n",
            "{'firstName': 'Mark', 'lastName': 'St. Anthony'}\n",
            "{'firstName': 'Daniel', 'lastName': 'Rios-Munoz'}\n",
            "{'firstName': 'D.', 'lastName': 'Rios-Munoz'}\n",
            "{'firstName': 'Brian', 'lastName': 'Jeter'}\n",
            "{'firstName': 'Brian', 'lastName': 'Jeter'}\n",
            "{'firstName': 'Brian', 'lastName': 'Jeter'}\n",
            "{'firstName': 'Brian', 'lastName': 'Jeter'}\n"
          ]
        }
      ],
      "source": [
        "fields_to_extract = [\n",
        "    (\"firstName\", \"First name or first initial. Initials should include a period after the letter.\"),\n",
        "    (\"lastName\", \"Last name or last initial. Initials should include a period after the letter.\"),\n",
        "]\n",
        "\n",
        "notes = f\"\"\"\n",
        "You will receive a string containing an unformatted name or part of a name (e.g. initials). If there's a comma, that means the last name is first. A middle initial would be ignored because it is neither first nor last name.\n",
        "\"\"\"\n",
        "\n",
        "content = \"Mark St. Anthony\"\n",
        "\n",
        "print(extract_strings(content, fields_to_extract, notes))\n",
        "print(extract_strings(\"M. St. Anthony\", fields_to_extract, notes))\n",
        "print(extract_strings(\"St. Anthony, Mark\", fields_to_extract, notes))\n",
        "print(extract_strings(\"Daniel Rios-Munoz\", fields_to_extract, notes))\n",
        "print(extract_strings(\"Rios-Munoz, D\", fields_to_extract, notes))\n",
        "print(extract_strings(\"Brian J Jeter\", fields_to_extract, notes))\n",
        "print(extract_strings(\"Brian Jeter\", fields_to_extract, notes))\n",
        "print(extract_strings(\"Jeter, Brian\", fields_to_extract, notes))\n",
        "print(extract_strings(\"Jeter, Brian J.\", fields_to_extract, notes))\n",
        "\n",
        "\n"
      ]
    }
  ],
  "metadata": {
    "colab": {
      "provenance": []
    },
    "kernelspec": {
      "display_name": "Python 3",
      "name": "python3"
    },
    "language_info": {
      "codemirror_mode": {
        "name": "ipython",
        "version": 3
      },
      "file_extension": ".py",
      "mimetype": "text/x-python",
      "name": "python",
      "nbconvert_exporter": "python",
      "pygments_lexer": "ipython3",
      "version": "3.12.2"
    }
  },
  "nbformat": 4,
  "nbformat_minor": 0
}
