{
  "cells": [
    {
      "cell_type": "markdown",
      "metadata": {
        "id": "ChQ4YaZHvYbR"
      },
      "source": [
        "## Overview\n",
        "\n",
        "Repo: https://github.com/pgahq/instructor-groq-openai-llm-examples\n",
        "\n",
        "This notebook shows how to use Instructor to generate a list of objects...not just extract it.\n",
        "\n",
        "Note: this notebook assumes you're using Google Colab. You can safely edit / play here. Or go to `File` -> `Save a copy in Google Drive` to make your own version.\n",
        "\n"
      ]
    },
    {
      "cell_type": "code",
      "execution_count": 2,
      "metadata": {
        "id": "7j-wjRULjwc4"
      },
      "outputs": [],
      "source": [
        "!pip install --quiet instructor groq openai jsonref"
      ]
    },
    {
      "cell_type": "markdown",
      "metadata": {
        "id": "tA_GryIio4JN"
      },
      "source": [
        "On the left, click the key and set two secrets with your keys. Be sure to enable \"Notebook access\" for them. This is how Google Colab works...you're not sharing your keys with anyone.\n",
        "\n",
        "OPENAI_API_KEY\n",
        "\n",
        "GROQ_API_KEY"
      ]
    },
    {
      "cell_type": "code",
      "execution_count": 3,
      "metadata": {
        "id": "M9Om0C2YmGGj"
      },
      "outputs": [],
      "source": [
        "import openai\n",
        "import groq\n",
        "import instructor\n",
        "from typing import List\n",
        "from pydantic import BaseModel, Field\n",
        "from rich import print as rprint\n",
        "import os\n",
        "\n",
        "try:\n",
        "    from google.colab import userdata\n",
        "    os.environ['OPENAI_API_KEY'] = '' or userdata.get('OPENAI_API_KEY') # or put your key in the '' on this line\n",
        "    os.environ['GROQ_API_KEY'] = '' or userdata.get('GROQ_API_KEY')\n",
        "except Exception as e:\n",
        "    # print(e)\n",
        "    pass\n"
      ]
    },
    {
      "cell_type": "markdown",
      "metadata": {
        "id": "N2xtRfmD6pgH"
      },
      "source": [
        "Now to the cool stuff..."
      ]
    },
    {
      "cell_type": "code",
      "execution_count": 4,
      "metadata": {
        "colab": {
          "base_uri": "https://localhost:8080/",
          "height": 595
        },
        "id": "50rSTdEq6nr6",
        "outputId": "8223f3fe-33ce-40f8-eccd-c7d2733b021e"
      },
      "outputs": [
        {
          "data": {
            "text/html": [
              "<pre style=\"white-space:pre;overflow-x:auto;line-height:normal;font-family:Menlo,'DejaVu Sans Mono',consolas,'Courier New',monospace\"><span style=\"color: #800080; text-decoration-color: #800080; font-weight: bold\">User</span><span style=\"font-weight: bold\">(</span>\n",
              "    <span style=\"color: #808000; text-decoration-color: #808000\">name</span>=<span style=\"color: #008000; text-decoration-color: #008000\">'Melody Singer'</span>,\n",
              "    <span style=\"color: #808000; text-decoration-color: #808000\">profession</span>=<span style=\"color: #008000; text-decoration-color: #008000\">'Music Teacher'</span>,\n",
              "    <span style=\"color: #808000; text-decoration-color: #808000\">justification</span>=<span style=\"color: #008000; text-decoration-color: #008000\">\"Her name 'Melody' reflects her passion and profession in music.\"</span>,\n",
              "    <span style=\"color: #808000; text-decoration-color: #808000\">age</span>=<span style=\"color: #008080; text-decoration-color: #008080; font-weight: bold\">30</span>\n",
              "<span style=\"font-weight: bold\">)</span>\n",
              "</pre>\n"
            ],
            "text/plain": [
              "\u001b[1;35mUser\u001b[0m\u001b[1m(\u001b[0m\n",
              "    \u001b[33mname\u001b[0m=\u001b[32m'Melody Singer'\u001b[0m,\n",
              "    \u001b[33mprofession\u001b[0m=\u001b[32m'Music Teacher'\u001b[0m,\n",
              "    \u001b[33mjustification\u001b[0m=\u001b[32m\"Her\u001b[0m\u001b[32m name 'Melody' reflects her passion and profession in music.\"\u001b[0m,\n",
              "    \u001b[33mage\u001b[0m=\u001b[1;36m30\u001b[0m\n",
              "\u001b[1m)\u001b[0m\n"
            ]
          },
          "metadata": {},
          "output_type": "display_data"
        },
        {
          "data": {
            "text/html": [
              "<pre style=\"white-space:pre;overflow-x:auto;line-height:normal;font-family:Menlo,'DejaVu Sans Mono',consolas,'Courier New',monospace\"><span style=\"color: #800080; text-decoration-color: #800080; font-weight: bold\">User</span><span style=\"font-weight: bold\">(</span>\n",
              "    <span style=\"color: #808000; text-decoration-color: #808000\">name</span>=<span style=\"color: #008000; text-decoration-color: #008000\">'Mary Doctor'</span>,\n",
              "    <span style=\"color: #808000; text-decoration-color: #808000\">profession</span>=<span style=\"color: #008000; text-decoration-color: #008000\">'Medical Doctor'</span>,\n",
              "    <span style=\"color: #808000; text-decoration-color: #808000\">justification</span>=<span style=\"color: #008000; text-decoration-color: #008000\">\"Her last name 'Doctor' is directly associated with her profession.\"</span>,\n",
              "    <span style=\"color: #808000; text-decoration-color: #808000\">age</span>=<span style=\"color: #008080; text-decoration-color: #008080; font-weight: bold\">45</span>\n",
              "<span style=\"font-weight: bold\">)</span>\n",
              "</pre>\n"
            ],
            "text/plain": [
              "\u001b[1;35mUser\u001b[0m\u001b[1m(\u001b[0m\n",
              "    \u001b[33mname\u001b[0m=\u001b[32m'Mary Doctor'\u001b[0m,\n",
              "    \u001b[33mprofession\u001b[0m=\u001b[32m'Medical Doctor'\u001b[0m,\n",
              "    \u001b[33mjustification\u001b[0m=\u001b[32m\"Her\u001b[0m\u001b[32m last name 'Doctor' is directly associated with her profession.\"\u001b[0m,\n",
              "    \u001b[33mage\u001b[0m=\u001b[1;36m45\u001b[0m\n",
              "\u001b[1m)\u001b[0m\n"
            ]
          },
          "metadata": {},
          "output_type": "display_data"
        },
        {
          "data": {
            "text/html": [
              "<pre style=\"white-space:pre;overflow-x:auto;line-height:normal;font-family:Menlo,'DejaVu Sans Mono',consolas,'Courier New',monospace\"><span style=\"color: #800080; text-decoration-color: #800080; font-weight: bold\">User</span><span style=\"font-weight: bold\">(</span>\n",
              "    <span style=\"color: #808000; text-decoration-color: #808000\">name</span>=<span style=\"color: #008000; text-decoration-color: #008000\">'Ivy Gardener'</span>,\n",
              "    <span style=\"color: #808000; text-decoration-color: #808000\">profession</span>=<span style=\"color: #008000; text-decoration-color: #008000\">'Botanist'</span>,\n",
              "    <span style=\"color: #808000; text-decoration-color: #808000\">justification</span>=<span style=\"color: #008000; text-decoration-color: #008000\">\"The name 'Ivy' is associated with plants and her profession involves studying them.\"</span>,\n",
              "    <span style=\"color: #808000; text-decoration-color: #808000\">age</span>=<span style=\"color: #008080; text-decoration-color: #008080; font-weight: bold\">35</span>\n",
              "<span style=\"font-weight: bold\">)</span>\n",
              "</pre>\n"
            ],
            "text/plain": [
              "\u001b[1;35mUser\u001b[0m\u001b[1m(\u001b[0m\n",
              "    \u001b[33mname\u001b[0m=\u001b[32m'Ivy Gardener'\u001b[0m,\n",
              "    \u001b[33mprofession\u001b[0m=\u001b[32m'Botanist'\u001b[0m,\n",
              "    \u001b[33mjustification\u001b[0m=\u001b[32m\"The\u001b[0m\u001b[32m name 'Ivy' is associated with plants and her profession involves studying them.\"\u001b[0m,\n",
              "    \u001b[33mage\u001b[0m=\u001b[1;36m35\u001b[0m\n",
              "\u001b[1m)\u001b[0m\n"
            ]
          },
          "metadata": {},
          "output_type": "display_data"
        },
        {
          "data": {
            "text/html": [
              "<pre style=\"white-space:pre;overflow-x:auto;line-height:normal;font-family:Menlo,'DejaVu Sans Mono',consolas,'Courier New',monospace\"><span style=\"color: #800080; text-decoration-color: #800080; font-weight: bold\">User</span><span style=\"font-weight: bold\">(</span>\n",
              "    <span style=\"color: #808000; text-decoration-color: #808000\">name</span>=<span style=\"color: #008000; text-decoration-color: #008000\">'Paige Turner'</span>,\n",
              "    <span style=\"color: #808000; text-decoration-color: #808000\">profession</span>=<span style=\"color: #008000; text-decoration-color: #008000\">'Librarian'</span>,\n",
              "    <span style=\"color: #808000; text-decoration-color: #808000\">justification</span>=<span style=\"color: #008000; text-decoration-color: #008000\">\"Her name 'Paige Turner' humorously alludes to turning pages of books, fitting for a librarian.\"</span>,\n",
              "    <span style=\"color: #808000; text-decoration-color: #808000\">age</span>=<span style=\"color: #008080; text-decoration-color: #008080; font-weight: bold\">29</span>\n",
              "<span style=\"font-weight: bold\">)</span>\n",
              "</pre>\n"
            ],
            "text/plain": [
              "\u001b[1;35mUser\u001b[0m\u001b[1m(\u001b[0m\n",
              "    \u001b[33mname\u001b[0m=\u001b[32m'Paige Turner'\u001b[0m,\n",
              "    \u001b[33mprofession\u001b[0m=\u001b[32m'Librarian'\u001b[0m,\n",
              "    \u001b[33mjustification\u001b[0m=\u001b[32m\"Her\u001b[0m\u001b[32m name 'Paige Turner' humorously alludes to turning pages of books, fitting for a librarian.\"\u001b[0m,\n",
              "    \u001b[33mage\u001b[0m=\u001b[1;36m29\u001b[0m\n",
              "\u001b[1m)\u001b[0m\n"
            ]
          },
          "metadata": {},
          "output_type": "display_data"
        },
        {
          "data": {
            "text/html": [
              "<pre style=\"white-space:pre;overflow-x:auto;line-height:normal;font-family:Menlo,'DejaVu Sans Mono',consolas,'Courier New',monospace\"><span style=\"color: #800080; text-decoration-color: #800080; font-weight: bold\">User</span><span style=\"font-weight: bold\">(</span>\n",
              "    <span style=\"color: #808000; text-decoration-color: #808000\">name</span>=<span style=\"color: #008000; text-decoration-color: #008000\">'Bill Baker'</span>,\n",
              "    <span style=\"color: #808000; text-decoration-color: #808000\">profession</span>=<span style=\"color: #008000; text-decoration-color: #008000\">'Pastry Chef'</span>,\n",
              "    <span style=\"color: #808000; text-decoration-color: #808000\">justification</span>=<span style=\"color: #008000; text-decoration-color: #008000\">\"His name 'Bill Baker' aptly fits his profession as a baker.\"</span>,\n",
              "    <span style=\"color: #808000; text-decoration-color: #808000\">age</span>=<span style=\"color: #008080; text-decoration-color: #008080; font-weight: bold\">40</span>\n",
              "<span style=\"font-weight: bold\">)</span>\n",
              "</pre>\n"
            ],
            "text/plain": [
              "\u001b[1;35mUser\u001b[0m\u001b[1m(\u001b[0m\n",
              "    \u001b[33mname\u001b[0m=\u001b[32m'Bill Baker'\u001b[0m,\n",
              "    \u001b[33mprofession\u001b[0m=\u001b[32m'Pastry Chef'\u001b[0m,\n",
              "    \u001b[33mjustification\u001b[0m=\u001b[32m\"His\u001b[0m\u001b[32m name 'Bill Baker' aptly fits his profession as a baker.\"\u001b[0m,\n",
              "    \u001b[33mage\u001b[0m=\u001b[1;36m40\u001b[0m\n",
              "\u001b[1m)\u001b[0m\n"
            ]
          },
          "metadata": {},
          "output_type": "display_data"
        }
      ],
      "source": [
        "inference_provider = \"openai\"   # \"openai\" or \"groq\"\n",
        "\n",
        "class User(BaseModel):\n",
        "    name: str = Field(description=\"Realistic full name (an aptronym) of the user.\")\n",
        "    profession: str = Field(description=\"Profession of the user.\")\n",
        "    justification: str = Field(description=\"Explanation of why this name is an aptronym.\")\n",
        "    age: int = Field(description=\"Age of the user.\")\n",
        "\n",
        "\n",
        "\n",
        "client = instructor.from_openai(openai.OpenAI()) if inference_provider == \"openai\" else instructor.from_groq(groq.Groq())\n",
        "users = client.chat.completions.create(\n",
        "    model=\"llama3-70b-8192\" if inference_provider == \"groq\" else \"gpt-4o\",\n",
        "    messages=[\n",
        "        {\"role\": \"user\", \"content\": \"Create synthetic data for 5 users\"},\n",
        "    ],\n",
        "    response_model=List[User],\n",
        "    temperature=1,\n",
        ")\n",
        "\n",
        "for user in users:\n",
        "    rprint(user)\n"
      ]
    }
  ],
  "metadata": {
    "colab": {
      "provenance": []
    },
    "kernelspec": {
      "display_name": "Python 3",
      "name": "python3"
    },
    "language_info": {
      "codemirror_mode": {
        "name": "ipython",
        "version": 3
      },
      "file_extension": ".py",
      "mimetype": "text/x-python",
      "name": "python",
      "nbconvert_exporter": "python",
      "pygments_lexer": "ipython3",
      "version": "3.12.2"
    }
  },
  "nbformat": 4,
  "nbformat_minor": 0
}
