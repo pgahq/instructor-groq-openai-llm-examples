{
  "cells": [
    {
      "cell_type": "markdown",
      "metadata": {
        "id": "ChQ4YaZHvYbR"
      },
      "source": [
        "## Summary\n",
        "\n",
        "Repo: https://github.com/pgahq/instructor-groq-openai-llm-examples\n",
        "\n",
        "This notebook shows how to use Instructor to extract structured info from unstructured text. The twist here is that the list of entities to extract is specified at runtime, rather than being hard-coded in the model. This could easily be turned into an API. For example:\n",
        "\n",
        "```\n",
        "Endpoint: /extract_strings\n",
        "Body:\n",
        "{\n",
        "    \"content\": \"The Boy Who Cried Wolf\\n\\nOnce upon a time, there was a young shepherd boy...\",\n",
        "    \"attribute\": [\n",
        "        [\"moral\", \"Moral of the story\"],\n",
        "    ],\n",
        "    \"model_notes\": \"\"\n",
        "}\n",
        "```\n",
        "\n",
        "\n",
        "Note: this notebook assumes you're using Google Colab. You can safely edit / play here. Or go to `File` -> `Save a copy in Google Drive` to make your own version."
      ]
    },
    {
      "cell_type": "code",
      "execution_count": 2,
      "metadata": {
        "id": "7j-wjRULjwc4"
      },
      "outputs": [],
      "source": [
        "!pip install --quiet instructor groq openai jsonref"
      ]
    },
    {
      "cell_type": "markdown",
      "metadata": {
        "id": "tA_GryIio4JN"
      },
      "source": [
        "On the left, click the key and set two secrets with your keys. Be sure to enable \"Notebook access\" for them. This is how Google Colab works...you're not sharing your keys with anyone.\n",
        "\n",
        "OPENAI_API_KEY - get a key from https://platform.openai.com/api-keys\n",
        "GROQ_API_KEY - get a key from https://console.groq.com/keys"
      ]
    },
    {
      "cell_type": "code",
      "execution_count": 3,
      "metadata": {},
      "outputs": [],
      "source": [
        "import instructor\n",
        "import openai\n",
        "import groq\n",
        "from pydantic import BaseModel, Field\n",
        "from typing import Optional, List\n",
        "import os\n",
        "from rich import print as rprint\n",
        "\n",
        "try:\n",
        "    from google.colab import userdata\n",
        "    os.environ['OPENAI_API_KEY'] = '' or userdata.get('OPENAI_API_KEY') # or put your key in the '' on this line\n",
        "    os.environ['GROQ_API_KEY'] = '' or userdata.get('GROQ_API_KEY')\n",
        "except Exception as e:\n",
        "    # print(e)\n",
        "    pass\n",
        "\n",
        "if not os.environ.get('OPENAI_API_KEY') or not os.environ.get('GROQ_API_KEY'):\n",
        "    raise ValueError(\"Both OPENAI_API_KEY and GROQ_API_KEY environment variables must be set and non-empty. Read the text in the notebook (above this block) for more info.\")\n"
      ]
    },
    {
      "cell_type": "code",
      "execution_count": 4,
      "metadata": {
        "colab": {
          "base_uri": "https://localhost:8080/"
        },
        "id": "M9Om0C2YmGGj",
        "outputId": "1620461d-c5b3-4e49-a2fd-ca3f53ca9dd0"
      },
      "outputs": [],
      "source": [
        "inference_provider = \"openai\"   # \"openai\" or \"groq\"\n",
        "client = instructor.from_openai(openai.OpenAI()) if inference_provider == \"openai\" else instructor.from_groq(groq.Groq())\n",
        "\n",
        "def extract_strings(content: str, attribute: List[tuple], model_notes: str = \"\") -> BaseModel:\n",
        "    # Create the annotations and fields dictionaries\n",
        "    annotations = {attr: Optional[str] for attr, _ in attribute}\n",
        "    fields = {attr: Field(description=desc) for attr, desc in attribute}\n",
        "\n",
        "    # Create the ExtractStrings class dynamically with a docstring\n",
        "    ExtractStrings = type('ExtractStrings', (BaseModel,), {\n",
        "        '__annotations__': annotations,\n",
        "        '__doc__': model_notes,\n",
        "        **fields\n",
        "    })\n",
        "\n",
        "    result = client.chat.completions.create(\n",
        "        model=\"llama3-70b-8192\" if inference_provider == \"groq\" else \"gpt-4o\",\n",
        "        response_model=ExtractStrings,\n",
        "        temperature=0.0,\n",
        "        messages=[{\"role\": \"user\", \"content\": content}]\n",
        "    )\n",
        "    return result.model_dump()\n",
        "\n"
      ]
    },
    {
      "cell_type": "markdown",
      "metadata": {},
      "source": [
        "## Let it fly!\n",
        "extract_strings could be turned into an API. Note that this code only returns strings and treats as optional. You could easily extend this to return more structured data."
      ]
    },
    {
      "cell_type": "code",
      "execution_count": 5,
      "metadata": {},
      "outputs": [
        {
          "data": {
            "text/html": [
              "<pre style=\"white-space:pre;overflow-x:auto;line-height:normal;font-family:Menlo,'DejaVu Sans Mono',consolas,'Courier New',monospace\"><span style=\"font-weight: bold\">{</span><span style=\"color: #008000; text-decoration-color: #008000\">'name'</span>: <span style=\"color: #008000; text-decoration-color: #008000\">'Jason'</span>, <span style=\"color: #008000; text-decoration-color: #008000\">'age'</span>: <span style=\"color: #008000; text-decoration-color: #008000\">'28'</span>, <span style=\"color: #008000; text-decoration-color: #008000\">'email'</span>: <span style=\"color: #800080; text-decoration-color: #800080; font-style: italic\">None</span><span style=\"font-weight: bold\">}</span>\n",
              "</pre>\n"
            ],
            "text/plain": [
              "\u001b[1m{\u001b[0m\u001b[32m'name'\u001b[0m: \u001b[32m'Jason'\u001b[0m, \u001b[32m'age'\u001b[0m: \u001b[32m'28'\u001b[0m, \u001b[32m'email'\u001b[0m: \u001b[3;35mNone\u001b[0m\u001b[1m}\u001b[0m\n"
            ]
          },
          "metadata": {},
          "output_type": "display_data"
        }
      ],
      "source": [
        "fields_to_extract = [\n",
        "    (\"name\", \"Name of the user\"),       # these could be passed in as API args\n",
        "    (\"age\", \"Age of the user\"),\n",
        "    (\"email\", \"Email of the user\"),\n",
        "]\n",
        "\n",
        "content = \"Jason is the user and he's 25 years older than Rick who was born 3 years ago.\"   # this could be passed in as an API arg\n",
        "\n",
        "rprint(extract_strings(content, fields_to_extract))\n"
      ]
    },
    {
      "cell_type": "markdown",
      "metadata": {},
      "source": [
        "## Detailed descriptions\n",
        "The text describing a field can be quite sophisticated to nudge the LLM to give exactly the desired results. LLMs do well with markdown."
      ]
    },
    {
      "cell_type": "code",
      "execution_count": 32,
      "metadata": {},
      "outputs": [
        {
          "name": "stdout",
          "output_type": "stream",
          "text": [
            "{'firstName': 'Mark', 'lastName': 'St. Anthony'}\n",
            "{'firstName': 'M.', 'lastName': 'St. Anthony'}\n",
            "{'firstName': 'M.', 'lastName': 'St. Anthony'}\n",
            "{'firstName': 'Mark', 'lastName': 'St. Anthony'}\n",
            "{'firstName': 'Daniel', 'lastName': 'Rios-Munoz'}\n",
            "{'firstName': 'D.', 'lastName': 'Rios-Munoz'}\n",
            "{'firstName': 'D.', 'lastName': 'Rios-Munoz'}\n",
            "{'firstName': 'Brian', 'lastName': 'Jeter'}\n",
            "{'firstName': 'Brian', 'lastName': 'Jeter'}\n",
            "{'firstName': 'Brian', 'lastName': 'Jeter'}\n",
            "{'firstName': 'Brian', 'lastName': 'Jeter'}\n"
          ]
        }
      ],
      "source": [
        "fields_to_extract = [\n",
        "    (\"firstName\", \"\"\"\n",
        "     ## Requirements\n",
        "     First name or first initial. You must add a trailing period to an initial if it doesn't have one.\n",
        "     \n",
        "     ## Additional info\n",
        "     You will receive a string containing an unformatted name or part of a name (e.g. initials). If there's a comma, that means the last name is first. A middle initial would be ignored because it is neither first nor last name.\n",
        "     \"\"\"),\n",
        "     \n",
        "    (\"lastName\", \"Last name or last initial. Initials should include a period after the letter. You will receive a string containing an unformatted name or part of a name (e.g. initials). If there's a comma, that means the last name is first. A middle initial would be ignored because it is neither first nor last name.\"),\n",
        "]\n",
        "\n",
        "print(extract_strings(\"Mark St. Anthony\", fields_to_extract))\n",
        "print(extract_strings(\"M. St. Anthony\", fields_to_extract))\n",
        "print(extract_strings(\"M St. Anthony\", fields_to_extract))\n",
        "print(extract_strings(\"St. Anthony, Mark\", fields_to_extract))\n",
        "print(extract_strings(\"Daniel Rios-Munoz\", fields_to_extract))\n",
        "print(extract_strings(\"Rios-Munoz, D\", fields_to_extract))\n",
        "print(extract_strings(\"Rios-Munoz, D.\", fields_to_extract))\n",
        "print(extract_strings(\"Brian J Jeter\", fields_to_extract))\n",
        "print(extract_strings(\"Brian Jeter\", fields_to_extract))\n",
        "print(extract_strings(\"Jeter, Brian\", fields_to_extract))\n",
        "print(extract_strings(\"Jeter, Brian J.\", fields_to_extract))"
      ]
    },
    {
      "cell_type": "code",
      "execution_count": 12,
      "metadata": {},
      "outputs": [
        {
          "data": {
            "text/html": [
              "<pre style=\"white-space:pre;overflow-x:auto;line-height:normal;font-family:Menlo,'DejaVu Sans Mono',consolas,'Courier New',monospace\"><span style=\"font-weight: bold\">{</span>\n",
              "    <span style=\"color: #008000; text-decoration-color: #008000\">'customer_rights'</span>: <span style=\"color: #008000; text-decoration-color: #008000\">'all rights, title, and interest in and to the Software, including all intellectual property</span>\n",
              "<span style=\"color: #008000; text-decoration-color: #008000\">rights, free and clear of any encumbrances'</span>,\n",
              "    <span style=\"color: #008000; text-decoration-color: #008000\">'customer_obligations'</span>: <span style=\"color: #008000; text-decoration-color: #008000\">'full payment of all fees owed to the Service Provider'</span>,\n",
              "    <span style=\"color: #008000; text-decoration-color: #008000\">'vendor_rights'</span>: <span style=\"color: #800080; text-decoration-color: #800080; font-style: italic\">None</span>,\n",
              "    <span style=\"color: #008000; text-decoration-color: #008000\">'vendor_obligations'</span>: <span style=\"color: #008000; text-decoration-color: #008000\">'assign and transfer to the Customer all rights, title, and interest in and to the </span>\n",
              "<span style=\"color: #008000; text-decoration-color: #008000\">Software, including all intellectual property rights, free and clear of any encumbrances'</span>\n",
              "<span style=\"font-weight: bold\">}</span>\n",
              "</pre>\n"
            ],
            "text/plain": [
              "\u001b[1m{\u001b[0m\n",
              "    \u001b[32m'customer_rights'\u001b[0m: \u001b[32m'all rights, title, and interest in and to the Software, including all intellectual property\u001b[0m\n",
              "\u001b[32mrights, free and clear of any encumbrances'\u001b[0m,\n",
              "    \u001b[32m'customer_obligations'\u001b[0m: \u001b[32m'full payment of all fees owed to the Service Provider'\u001b[0m,\n",
              "    \u001b[32m'vendor_rights'\u001b[0m: \u001b[3;35mNone\u001b[0m,\n",
              "    \u001b[32m'vendor_obligations'\u001b[0m: \u001b[32m'assign and transfer to the Customer all rights, title, and interest in and to the \u001b[0m\n",
              "\u001b[32mSoftware, including all intellectual property rights, free and clear of any encumbrances'\u001b[0m\n",
              "\u001b[1m}\u001b[0m\n"
            ]
          },
          "metadata": {},
          "output_type": "display_data"
        }
      ],
      "source": [
        "fields_to_extract = [\n",
        "    (\"customer_rights\", \"Customer rights\"),\n",
        "    (\"customer_obligations\", \"Customer obligations\"),\n",
        "    (\"vendor_rights\", \"Vendor rights\"),\n",
        "    (\"vendor_obligations\", \"Vendor obligations\"),\n",
        "]\n",
        "\n",
        "content = f\"\"\"\n",
        "5. Ownership of Work Product. Upon full payment of all fees owed to the Service Provider, the Service Provider agrees to assign and transfer to the Customer all rights, title, and interest in and to the Software, including all intellectual property rights, free and clear of any encumbrances.\n",
        "\"\"\"\n",
        "rprint(extract_strings(content, fields_to_extract))"
      ]
    },
    {
      "cell_type": "code",
      "execution_count": 18,
      "metadata": {},
      "outputs": [
        {
          "data": {
            "text/html": [
              "<pre style=\"white-space:pre;overflow-x:auto;line-height:normal;font-family:Menlo,'DejaVu Sans Mono',consolas,'Courier New',monospace\"><span style=\"font-weight: bold\">{</span>\n",
              "    <span style=\"color: #008000; text-decoration-color: #008000\">'customer_concerns'</span>: <span style=\"color: #008000; text-decoration-color: #008000\">'The $1,000,000 fee for change requests and termination without cause seems excessively </span>\n",
              "<span style=\"color: #008000; text-decoration-color: #008000\">high and could be a significant financial burden. Additionally, the terms for confidentiality are quite broad and </span>\n",
              "<span style=\"color: #008000; text-decoration-color: #008000\">may need more specific exclusions.'</span>,\n",
              "    <span style=\"color: #008000; text-decoration-color: #008000\">'suggested_changes'</span>: <span style=\"color: #008000; text-decoration-color: #008000\">'1. Reduce the $1,000,000 fee for change requests to a more reasonable amount based on the</span>\n",
              "<span style=\"color: #008000; text-decoration-color: #008000\">scope of the changes. 2. Eliminate or significantly reduce the $1,000,000 fee for termination without cause. 3. </span>\n",
              "<span style=\"color: #008000; text-decoration-color: #008000\">Clarify the confidentiality terms to include more specific exclusions and conditions under which information can be</span>\n",
              "<span style=\"color: #008000; text-decoration-color: #008000\">disclosed.'</span>\n",
              "<span style=\"font-weight: bold\">}</span>\n",
              "</pre>\n"
            ],
            "text/plain": [
              "\u001b[1m{\u001b[0m\n",
              "    \u001b[32m'customer_concerns'\u001b[0m: \u001b[32m'The $1,000,000 fee for change requests and termination without cause seems excessively \u001b[0m\n",
              "\u001b[32mhigh and could be a significant financial burden. Additionally, the terms for confidentiality are quite broad and \u001b[0m\n",
              "\u001b[32mmay need more specific exclusions.'\u001b[0m,\n",
              "    \u001b[32m'suggested_changes'\u001b[0m: \u001b[32m'1. Reduce the $1,000,000 fee for change requests to a more reasonable amount based on the\u001b[0m\n",
              "\u001b[32mscope of the changes. 2. Eliminate or significantly reduce the $1,000,000 fee for termination without cause. 3. \u001b[0m\n",
              "\u001b[32mClarify the confidentiality terms to include more specific exclusions and conditions under which information can be\u001b[0m\n",
              "\u001b[32mdisclosed.'\u001b[0m\n",
              "\u001b[1m}\u001b[0m\n"
            ]
          },
          "metadata": {},
          "output_type": "display_data"
        }
      ],
      "source": [
        "fields_to_extract = [\n",
        "    (\"customer_concerns\", \"Short descriptions of all issues that are not favorable to the customer.\"),\n",
        "    (\"suggested_changes\", \"Suggested changes to the contract that would resolve the customer's concerns.\"),\n",
        "]\n",
        "\n",
        "content = f\"\"\"\n",
        "4. Change Requests. If the Customer requests any material changes to the scope of services (including specifications, design, or functionality), the Service Provider will assess the impact on the project timeline and costs. The Service Provider will provide the Customer with a written change order detailing the additional costs and time required to implement the changes. A $1,000,000 fee will be assessed. The Customer must approve the change order in writing before the Service Provider proceeds with the changes.\n",
        "\n",
        "5. Ownership of Work Product. Upon full payment of all fees owed to the Service Provider, the Service Provider agrees to assign and transfer to the Customer all rights, title, and interest in and to the Software, including all intellectual property rights, free and clear of any encumbrances.\n",
        "\n",
        "6. Termination. Either party may terminate this Agreement upon thirty (30) days’ written notice to the other party. In the event of termination, the Customer will pay the Service Provider for all services rendered and expenses incurred up to the date of termination. If the Customer terminates the Agreement without cause, the Customer will pay the Service Provider for any committed and non-cancelable costs incurred by the Service Provider plus a $1,000,000 fee.\n",
        "\n",
        "7. Confidentiality. Both parties agree to keep confidential all Confidential Information disclosed by the other party during the term of this Agreement. Confidential Information does not include information that is publicly known through no fault of the receiving party, was in the receiving party's possession before receipt from the disclosing party, or was independently developed by the receiving party without use of the disclosing party's Confidential Information.\n",
        "\"\"\"\n",
        "rprint(extract_strings(content, fields_to_extract))"
      ]
    }
  ],
  "metadata": {
    "colab": {
      "provenance": []
    },
    "kernelspec": {
      "display_name": "Python 3",
      "name": "python3"
    },
    "language_info": {
      "codemirror_mode": {
        "name": "ipython",
        "version": 3
      },
      "file_extension": ".py",
      "mimetype": "text/x-python",
      "name": "python",
      "nbconvert_exporter": "python",
      "pygments_lexer": "ipython3",
      "version": "3.12.2"
    }
  },
  "nbformat": 4,
  "nbformat_minor": 0
}
