{
  "cells": [
    {
      "cell_type": "markdown",
      "metadata": {
        "id": "ChQ4YaZHvYbR"
      },
      "source": [
        "## Overview\n",
        "\n",
        "Repo: https://github.com/pgahq/instructor-groq-openai-llm-examples\n",
        "\n",
        "This notebook shows how to use Instructor with LLMs to generate simple Python code. It uses validation to ensure the dependencies are correct and that the code runs without errors.\n",
        "\n",
        "Note: this notebook assumes you're using Google Colab. You can safely edit / play here. Or go to `File` -> `Save a copy in Google Drive` to make your own version."
      ]
    },
    {
      "cell_type": "code",
      "execution_count": 1,
      "metadata": {
        "id": "7j-wjRULjwc4"
      },
      "outputs": [
        {
          "name": "stdout",
          "output_type": "stream",
          "text": [
            "\n",
            "\u001b[1m[\u001b[0m\u001b[34;49mnotice\u001b[0m\u001b[1;39;49m]\u001b[0m\u001b[39;49m A new release of pip is available: \u001b[0m\u001b[31;49m24.0\u001b[0m\u001b[39;49m -> \u001b[0m\u001b[32;49m24.1.2\u001b[0m\n",
            "\u001b[1m[\u001b[0m\u001b[34;49mnotice\u001b[0m\u001b[1;39;49m]\u001b[0m\u001b[39;49m To update, run: \u001b[0m\u001b[32;49mpip install --upgrade pip\u001b[0m\n"
          ]
        }
      ],
      "source": [
        "!pip install --quiet instructor groq openai jsonref"
      ]
    },
    {
      "cell_type": "markdown",
      "metadata": {
        "id": "tA_GryIio4JN"
      },
      "source": [
        "On the left, click the key and set two secrets with your keys. Be sure to enable \"Notebook access\" for them. This is how Google Colab works...you're not sharing your keys with anyone.\n",
        "\n",
        "OPENAI_API_KEY - get a key from https://platform.openai.com/api-keys\n",
        "\n",
        "GROQ_API_KEY - get a key from https://console.groq.com/keys"
      ]
    },
    {
      "cell_type": "code",
      "execution_count": 2,
      "metadata": {
        "id": "M9Om0C2YmGGj"
      },
      "outputs": [],
      "source": [
        "import instructor\n",
        "import openai\n",
        "import groq\n",
        "from pydantic import BaseModel, Field, field_validator\n",
        "from typing import List\n",
        "import subprocess\n",
        "from rich import print as rprint\n",
        "import os\n",
        "\n",
        "try:\n",
        "    from google.colab import userdata\n",
        "    os.environ['OPENAI_API_KEY'] = '' or userdata.get('OPENAI_API_KEY') # or put your key in the '' on this line\n",
        "    os.environ['GROQ_API_KEY'] = '' or userdata.get('GROQ_API_KEY')\n",
        "except Exception as e:\n",
        "    # print(e)\n",
        "    pass\n",
        "\n",
        "if not os.environ.get('OPENAI_API_KEY') or not os.environ.get('GROQ_API_KEY'):\n",
        "    raise ValueError(\"Both OPENAI_API_KEY and GROQ_API_KEY environment variables must be set and non-empty. Read the text in the notebook (above this block) for more info.\")"
      ]
    },
    {
      "cell_type": "markdown",
      "metadata": {
        "id": "N2xtRfmD6pgH"
      },
      "source": [
        "Now to the cool stuff..."
      ]
    },
    {
      "cell_type": "code",
      "execution_count": 5,
      "metadata": {
        "colab": {
          "base_uri": "https://localhost:8080/",
          "height": 1000
        },
        "id": "50rSTdEq6nr6",
        "outputId": "24a88d26-612a-46ae-dd19-e5f3bf710fd6"
      },
      "outputs": [
        {
          "name": "stdout",
          "output_type": "stream",
          "text": [
            "Requirement already satisfied: requests in /Users/kevinjscott/projects/🚀instructor-groq-openai-llm-examples/.venv/lib/python3.12/site-packages (2.32.3)\n",
            "Requirement already satisfied: beautifulsoup4 in /Users/kevinjscott/projects/🚀instructor-groq-openai-llm-examples/.venv/lib/python3.12/site-packages (4.12.3)\n",
            "Requirement already satisfied: charset-normalizer<4,>=2 in /Users/kevinjscott/projects/🚀instructor-groq-openai-llm-examples/.venv/lib/python3.12/site-packages (from requests) (3.3.2)\n",
            "Requirement already satisfied: idna<4,>=2.5 in /Users/kevinjscott/projects/🚀instructor-groq-openai-llm-examples/.venv/lib/python3.12/site-packages (from requests) (3.7)\n",
            "Requirement already satisfied: urllib3<3,>=1.21.1 in /Users/kevinjscott/projects/🚀instructor-groq-openai-llm-examples/.venv/lib/python3.12/site-packages (from requests) (2.2.2)\n",
            "Requirement already satisfied: certifi>=2017.4.17 in /Users/kevinjscott/projects/🚀instructor-groq-openai-llm-examples/.venv/lib/python3.12/site-packages (from requests) (2024.7.4)\n",
            "Requirement already satisfied: soupsieve>1.2 in /Users/kevinjscott/projects/🚀instructor-groq-openai-llm-examples/.venv/lib/python3.12/site-packages (from beautifulsoup4) (2.5)\n",
            "Dependencies installed: requests, beautifulsoup4\n",
            "\n",
            "\n",
            "\n",
            "Python code\n",
            "===========\n",
            "\n"
          ]
        },
        {
          "name": "stderr",
          "output_type": "stream",
          "text": [
            "\n",
            "\u001b[1m[\u001b[0m\u001b[34;49mnotice\u001b[0m\u001b[1;39;49m]\u001b[0m\u001b[39;49m A new release of pip is available: \u001b[0m\u001b[31;49m24.0\u001b[0m\u001b[39;49m -> \u001b[0m\u001b[32;49m24.1.2\u001b[0m\n",
            "\u001b[1m[\u001b[0m\u001b[34;49mnotice\u001b[0m\u001b[1;39;49m]\u001b[0m\u001b[39;49m To update, run: \u001b[0m\u001b[32;49mpip install --upgrade pip\u001b[0m\n"
          ]
        },
        {
          "data": {
            "text/html": [
              "<pre style=\"white-space:pre;overflow-x:auto;line-height:normal;font-family:Menlo,'DejaVu Sans Mono',consolas,'Courier New',monospace\">import requests\n",
              "from bs4 import BeautifulSoup\n",
              "\n",
              "url = <span style=\"color: #008000; text-decoration-color: #008000\">\"https://example.com\"</span>\n",
              "response = <span style=\"color: #800080; text-decoration-color: #800080; font-weight: bold\">requests.get</span><span style=\"font-weight: bold\">(</span>url<span style=\"font-weight: bold\">)</span>\n",
              "html = response.text\n",
              "soup = <span style=\"color: #800080; text-decoration-color: #800080; font-weight: bold\">BeautifulSoup</span><span style=\"font-weight: bold\">(</span>html, <span style=\"color: #008000; text-decoration-color: #008000\">'html.parser'</span><span style=\"font-weight: bold\">)</span>\n",
              "<span style=\"color: #800080; text-decoration-color: #800080; font-weight: bold\">print</span><span style=\"font-weight: bold\">(</span><span style=\"color: #800080; text-decoration-color: #800080; font-weight: bold\">soup.get_text</span><span style=\"font-weight: bold\">())</span>\n",
              "</pre>\n"
            ],
            "text/plain": [
              "import requests\n",
              "from bs4 import BeautifulSoup\n",
              "\n",
              "url = \u001b[32m\"https://example.com\"\u001b[0m\n",
              "response = \u001b[1;35mrequests.get\u001b[0m\u001b[1m(\u001b[0murl\u001b[1m)\u001b[0m\n",
              "html = response.text\n",
              "soup = \u001b[1;35mBeautifulSoup\u001b[0m\u001b[1m(\u001b[0mhtml, \u001b[32m'html.parser'\u001b[0m\u001b[1m)\u001b[0m\n",
              "\u001b[1;35mprint\u001b[0m\u001b[1m(\u001b[0m\u001b[1;35msoup.get_text\u001b[0m\u001b[1m(\u001b[0m\u001b[1m)\u001b[0m\u001b[1m)\u001b[0m\n"
            ]
          },
          "metadata": {},
          "output_type": "display_data"
        },
        {
          "name": "stdout",
          "output_type": "stream",
          "text": [
            "\n",
            "\n",
            "Trying code\n",
            "===========\n",
            "\n",
            "\n",
            "\n",
            "\n",
            "Example Domain\n",
            "\n",
            "\n",
            "\n",
            "\n",
            "\n",
            "\n",
            "\n",
            "Example Domain\n",
            "This domain is for use in illustrative examples in documents. You may use this\n",
            "    domain in literature without prior coordination or asking for permission.\n",
            "More information...\n",
            "\n",
            "\n",
            "\n",
            "\n"
          ]
        }
      ],
      "source": [
        "inference_provider = \"groq\"   # \"openai\" or \"groq\"\n",
        "client = instructor.from_openai(openai.OpenAI()) if inference_provider == \"openai\" else instructor.from_groq(groq.Groq())\n",
        "\n",
        "class CodeFile(BaseModel):\n",
        "    \"\"\"\n",
        "    Python code and dependencies to meet specified requirements. Dependencies will be installed and the code will be executed.\n",
        "\n",
        "    Limitations:\n",
        "    - This code will not be tested for quality, only that it runs without errors.\n",
        "    \"\"\"\n",
        "    architecture: str = Field(description=\"A markdown file that describes the architecture of the code and how it will satisfy each requirement one by one.\")\n",
        "    dependencies: List[str] = Field(description=\"List of pip packages required to run the code.\")\n",
        "    code: str = Field(description=\"A single Python file.\")\n",
        "\n",
        "    # the order above specifies the order of validation\n",
        "\n",
        "    @field_validator('dependencies')\n",
        "    @classmethod\n",
        "    def validate_dependencies(cls, v):\n",
        "        if v:\n",
        "            try:\n",
        "                subprocess.run([\"pip\", \"install\"] + v, check=True)\n",
        "                print(\"Dependencies installed: \" + \", \".join(v))\n",
        "                print(\"\\n\\n\")\n",
        "            except subprocess.CalledProcessError as e:\n",
        "                error_value = \"Failed to install dependencies: \" + str(e)\n",
        "                print(error_value)\n",
        "                raise ValueError(error_value)\n",
        "        return v\n",
        "\n",
        "    @field_validator('code')\n",
        "    @classmethod\n",
        "    def validate_code(cls, v):\n",
        "        if v:\n",
        "            try:\n",
        "                print(\"Python code\\n===========\\n\")\n",
        "                rprint(v)\n",
        "                print(\"\\n\\nTrying code\\n===========\\n\")\n",
        "                exec(v)\n",
        "            except Exception as e:\n",
        "                error_value = \"Error while executing code: \" + str(e)\n",
        "                print(error_value)\n",
        "                raise ValueError(error_value)\n",
        "        return v\n",
        "\n",
        "result = client.chat.completions.create(\n",
        "    model=\"llama-3.1-70b-versatile\" if inference_provider == \"groq\" else \"gpt-4o\",\n",
        "    response_model=CodeFile,\n",
        "    temperature=0.0,\n",
        "    max_retries=3,\n",
        "    messages=[{\"role\": \"user\", \"content\": \"\"\"\n",
        "        Extract the text content of https://example.com as markdown and print it out. Be thoughtful to only extract the content as a human user would want it rather than the HTML and other source code.\n",
        "        \"\"\"}]\n",
        "    )\n",
        "\n",
        "code = result.code\n",
        "# rprint(code)"
      ]
    }
  ],
  "metadata": {
    "colab": {
      "provenance": []
    },
    "kernelspec": {
      "display_name": "Python 3",
      "name": "python3"
    },
    "language_info": {
      "codemirror_mode": {
        "name": "ipython",
        "version": 3
      },
      "file_extension": ".py",
      "mimetype": "text/x-python",
      "name": "python",
      "nbconvert_exporter": "python",
      "pygments_lexer": "ipython3",
      "version": "3.12.4"
    }
  },
  "nbformat": 4,
  "nbformat_minor": 0
}
