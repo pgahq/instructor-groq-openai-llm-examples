{
  "cells": [
    {
      "cell_type": "markdown",
      "metadata": {
        "id": "ChQ4YaZHvYbR"
      },
      "source": [
        "## Summary\n",
        "\n",
        "Repo: https://github.com/pgahq/instructor-groq-openai-llm-examples\n",
        "\n",
        "This notebook shows how to use Instructor to extract structured info from unstructured text where the responses are constrained by an enumerated list. Instructor handles [Enum and Literal](https://jxnl.github.io/instructor/concepts/enums/) differently. Literal seems simpler.\n",
        "\n",
        "Note: this notebook assumes you're using Google Colab. You can safely edit / play here. Or go to `File` -> `Save a copy in Google Drive` to make your own version."
      ]
    },
    {
      "cell_type": "code",
      "execution_count": 1,
      "metadata": {
        "id": "7j-wjRULjwc4"
      },
      "outputs": [
        {
          "name": "stdout",
          "output_type": "stream",
          "text": [
            "\n",
            "\u001b[1m[\u001b[0m\u001b[34;49mnotice\u001b[0m\u001b[1;39;49m]\u001b[0m\u001b[39;49m A new release of pip is available: \u001b[0m\u001b[31;49m24.0\u001b[0m\u001b[39;49m -> \u001b[0m\u001b[32;49m24.1.2\u001b[0m\n",
            "\u001b[1m[\u001b[0m\u001b[34;49mnotice\u001b[0m\u001b[1;39;49m]\u001b[0m\u001b[39;49m To update, run: \u001b[0m\u001b[32;49mpip install --upgrade pip\u001b[0m\n"
          ]
        }
      ],
      "source": [
        "!pip install --quiet instructor groq openai jsonref"
      ]
    },
    {
      "cell_type": "markdown",
      "metadata": {
        "id": "tA_GryIio4JN"
      },
      "source": [
        "On the left, click the key and set two secrets with your keys. Be sure to enable \"Notebook access\" for them. This is how Google Colab works...you're not sharing your keys with anyone.\n",
        "\n",
        "OPENAI_API_KEY - get a key from https://platform.openai.com/api-keys\n",
        "\n",
        "GROQ_API_KEY - get a key from https://console.groq.com/keys"
      ]
    },
    {
      "cell_type": "code",
      "execution_count": 2,
      "metadata": {},
      "outputs": [],
      "source": [
        "import instructor\n",
        "import openai\n",
        "import groq\n",
        "from pydantic import BaseModel, Field\n",
        "from typing import Optional, List, Literal\n",
        "import os\n",
        "\n",
        "try:\n",
        "    from google.colab import userdata\n",
        "    os.environ['OPENAI_API_KEY'] = '' or userdata.get('OPENAI_API_KEY') # or put your key in the '' on this line\n",
        "    os.environ['GROQ_API_KEY'] = '' or userdata.get('GROQ_API_KEY')\n",
        "except Exception as e:\n",
        "    # print(e)\n",
        "    pass\n",
        "\n",
        "if not os.environ.get('OPENAI_API_KEY') or not os.environ.get('GROQ_API_KEY'):\n",
        "    raise ValueError(\"Both OPENAI_API_KEY and GROQ_API_KEY environment variables must be set and non-empty. Read the text in the notebook (above this block) for more info.\")\n"
      ]
    },
    {
      "cell_type": "code",
      "execution_count": 15,
      "metadata": {
        "colab": {
          "base_uri": "https://localhost:8080/"
        },
        "id": "M9Om0C2YmGGj",
        "outputId": "1620461d-c5b3-4e49-a2fd-ca3f53ca9dd0"
      },
      "outputs": [
        {
          "name": "stdout",
          "output_type": "stream",
          "text": [
            "For message: 'Amazing biscuits'\n",
            "{\n",
            "    \"business_type\": \"dining establishment\",\n",
            "    \"sentiment\": \"good vibes\"\n",
            "}\n",
            "\n",
            "\n",
            "For message: 'A shower in every room'\n",
            "{\n",
            "    \"business_type\": \"hotel\",\n",
            "    \"sentiment\": \"good vibes\"\n",
            "}\n",
            "\n",
            "\n",
            "For message: 'Inaccurate appointment reminders'\n",
            "{\n",
            "    \"business_type\": \"service business\",\n",
            "    \"sentiment\": \"not incredible\"\n",
            "}\n",
            "\n",
            "\n"
          ]
        }
      ],
      "source": [
        "inference_provider = \"openai\"   # \"openai\" or \"groq\"\n",
        "client = instructor.from_openai(openai.OpenAI()) if inference_provider == \"openai\" else instructor.from_groq(groq.Groq())\n",
        "\n",
        "class Review(BaseModel):\n",
        "    business_type: Literal[\n",
        "        \"dining establishment\", \n",
        "        \"service business\", \n",
        "        \"hotel\", \n",
        "        \"other\"\n",
        "    ] = Field(description=\"Type of business.\")\n",
        "\n",
        "    sentiment: Literal[\n",
        "        \"good vibes\", \n",
        "        \"ok-ish\", \n",
        "        \"not incredible\"\n",
        "    ] = Field(description=\"Sentiment of the review.\")\n",
        "\n",
        "messages = [\n",
        "    {\"role\": \"user\", \"content\": \"Amazing biscuits\"},\n",
        "    {\"role\": \"user\", \"content\": \"A shower in every room\"},\n",
        "    {\"role\": \"user\", \"content\": \"Inaccurate appointment reminders\"}\n",
        "]\n",
        "\n",
        "for message in messages:\n",
        "    response = client.chat.completions.create(\n",
        "        model=\"llama-3.1-70b-versatile\" if inference_provider == \"groq\" else \"gpt-4o-mini\",\n",
        "        response_model=Review, # this is Instructor at work!\n",
        "        temperature=0.0,\n",
        "        messages=[message]\n",
        "    )\n",
        "    \n",
        "    print(f\"For message: '{message['content']}'\")\n",
        "    print(response.model_dump_json(indent=4))\n",
        "    print(\"\\n\")\n"
      ]
    }
  ],
  "metadata": {
    "colab": {
      "provenance": []
    },
    "kernelspec": {
      "display_name": "Python 3",
      "name": "python3"
    },
    "language_info": {
      "codemirror_mode": {
        "name": "ipython",
        "version": 3
      },
      "file_extension": ".py",
      "mimetype": "text/x-python",
      "name": "python",
      "nbconvert_exporter": "python",
      "pygments_lexer": "ipython3",
      "version": "3.12.4"
    }
  },
  "nbformat": 4,
  "nbformat_minor": 0
}
