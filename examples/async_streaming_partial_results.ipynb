{
  "cells": [
    {
      "cell_type": "markdown",
      "metadata": {
        "id": "ChQ4YaZHvYbR"
      },
      "source": [
        "## Summary\n",
        "\n",
        "Repo: https://github.com/pgahq/instructor-groq-openai-llm-examples\n",
        "\n",
        "This notebook shows how to do streaming responses with Instructor. It's also notable that this combo (LLM + Instructor) can create structured synthetic data.\n",
        "\n",
        "Note: this notebook assumes you're using Google Colab. You can safely edit / play here. Or go to `File` -> `Save a copy in Google Drive` to make your own version."
      ]
    },
    {
      "cell_type": "code",
      "execution_count": 22,
      "metadata": {
        "id": "7j-wjRULjwc4"
      },
      "outputs": [
        {
          "name": "stdout",
          "output_type": "stream",
          "text": [
            "\n",
            "\u001b[1m[\u001b[0m\u001b[34;49mnotice\u001b[0m\u001b[1;39;49m]\u001b[0m\u001b[39;49m A new release of pip is available: \u001b[0m\u001b[31;49m24.0\u001b[0m\u001b[39;49m -> \u001b[0m\u001b[32;49m24.1.2\u001b[0m\n",
            "\u001b[1m[\u001b[0m\u001b[34;49mnotice\u001b[0m\u001b[1;39;49m]\u001b[0m\u001b[39;49m To update, run: \u001b[0m\u001b[32;49mpip install --upgrade pip\u001b[0m\n"
          ]
        }
      ],
      "source": [
        "!pip install --quiet instructor groq openai"
      ]
    },
    {
      "cell_type": "markdown",
      "metadata": {
        "id": "tA_GryIio4JN"
      },
      "source": [
        "On the left, click the key and set two secrets with your keys. Be sure to enable \"Notebook access\" for them. This is how Google Colab works...you're not sharing your keys with anyone.\n",
        "\n",
        "OPENAI_API_KEY - get a key from https://platform.openai.com/api-keys\n",
        "\n",
        "GROQ_API_KEY - get a key from https://console.groq.com/keys"
      ]
    },
    {
      "cell_type": "code",
      "execution_count": 23,
      "metadata": {
        "id": "M9Om0C2YmGGj"
      },
      "outputs": [],
      "source": [
        "import openai\n",
        "import groq\n",
        "import instructor\n",
        "from pydantic import BaseModel, Field\n",
        "import os\n",
        "\n",
        "try:\n",
        "    from google.colab import userdata\n",
        "    os.environ['OPENAI_API_KEY'] = '' or userdata.get('OPENAI_API_KEY') # or put your key in the '' on this line\n",
        "    os.environ['GROQ_API_KEY'] = '' or userdata.get('GROQ_API_KEY')\n",
        "except Exception as e:\n",
        "    # print(e)\n",
        "    pass\n",
        "\n",
        "if not os.environ.get('OPENAI_API_KEY') or not os.environ.get('GROQ_API_KEY'):\n",
        "    raise ValueError(\"Both OPENAI_API_KEY and GROQ_API_KEY environment variables must be set and non-empty. Read the text in the notebook (above this block) for more info.\")"
      ]
    },
    {
      "cell_type": "markdown",
      "metadata": {
        "id": "N2xtRfmD6pgH"
      },
      "source": [
        "Now to the cool stuff..."
      ]
    },
    {
      "cell_type": "code",
      "execution_count": 24,
      "metadata": {
        "colab": {
          "base_uri": "https://localhost:8080/"
        },
        "id": "50rSTdEq6nr6",
        "outputId": "0672a4c9-be13-4ae2-c6ab-a55cc0204fb1"
      },
      "outputs": [
        {
          "name": "stdout",
          "output_type": "stream",
          "text": [
            "\n",
            "name: \n",
            "name: Alex\n",
            "name: Alex Johnson\n",
            "name: Alex Johnson, age: 29\n",
            "name: Alex Johnson, age: 29, gender: \n",
            "name: Alex Johnson, age: 29, gender: Non\n",
            "name: Alex Johnson, age: 29, gender: Non-b\n",
            "name: Alex Johnson, age: 29, gender: Non-binary\n",
            "name: Alex Johnson, age: 29, gender: Non-binary, city: \n",
            "name: Alex Johnson, age: 29, gender: Non-binary, city: Austin\n",
            "name: Alex Johnson, age: 29, gender: Non-binary, city: Austin, state: \n",
            "name: Alex Johnson, age: 29, gender: Non-binary, city: Austin, state: Texas\n",
            "name: Alex Johnson, age: 29, gender: Non-binary, city: Austin, state: Texas, country: \n",
            "name: Alex Johnson, age: 29, gender: Non-binary, city: Austin, state: Texas, country: USA\n",
            "name: Alex Johnson, age: 29, gender: Non-binary, city: Austin, state: Texas, country: USA, backstory: \n",
            "name: Alex Johnson, age: 29, gender: Non-binary, city: Austin, state: Texas, country: USA, backstory: Alex\n",
            "name: Alex Johnson, age: 29, gender: Non-binary, city: Austin, state: Texas, country: USA, backstory: Alex is\n",
            "name: Alex Johnson, age: 29, gender: Non-binary, city: Austin, state: Texas, country: USA, backstory: Alex is a\n",
            "name: Alex Johnson, age: 29, gender: Non-binary, city: Austin, state: Texas, country: USA, backstory: Alex is a passionate\n",
            "name: Alex Johnson, age: 29, gender: Non-binary, city: Austin, state: Texas, country: USA, backstory: Alex is a passionate software\n",
            "name: Alex Johnson, age: 29, gender: Non-binary, city: Austin, state: Texas, country: USA, backstory: Alex is a passionate software developer\n",
            "name: Alex Johnson, age: 29, gender: Non-binary, city: Austin, state: Texas, country: USA, backstory: Alex is a passionate software developer who\n",
            "name: Alex Johnson, age: 29, gender: Non-binary, city: Austin, state: Texas, country: USA, backstory: Alex is a passionate software developer who loves\n",
            "name: Alex Johnson, age: 29, gender: Non-binary, city: Austin, state: Texas, country: USA, backstory: Alex is a passionate software developer who loves open\n",
            "name: Alex Johnson, age: 29, gender: Non-binary, city: Austin, state: Texas, country: USA, backstory: Alex is a passionate software developer who loves open-source\n",
            "name: Alex Johnson, age: 29, gender: Non-binary, city: Austin, state: Texas, country: USA, backstory: Alex is a passionate software developer who loves open-source projects\n",
            "name: Alex Johnson, age: 29, gender: Non-binary, city: Austin, state: Texas, country: USA, backstory: Alex is a passionate software developer who loves open-source projects.\n",
            "name: Alex Johnson, age: 29, gender: Non-binary, city: Austin, state: Texas, country: USA, backstory: Alex is a passionate software developer who loves open-source projects. They\n",
            "name: Alex Johnson, age: 29, gender: Non-binary, city: Austin, state: Texas, country: USA, backstory: Alex is a passionate software developer who loves open-source projects. They spend\n",
            "name: Alex Johnson, age: 29, gender: Non-binary, city: Austin, state: Texas, country: USA, backstory: Alex is a passionate software developer who loves open-source projects. They spend weekends\n",
            "name: Alex Johnson, age: 29, gender: Non-binary, city: Austin, state: Texas, country: USA, backstory: Alex is a passionate software developer who loves open-source projects. They spend weekends hiking\n",
            "name: Alex Johnson, age: 29, gender: Non-binary, city: Austin, state: Texas, country: USA, backstory: Alex is a passionate software developer who loves open-source projects. They spend weekends hiking and\n",
            "name: Alex Johnson, age: 29, gender: Non-binary, city: Austin, state: Texas, country: USA, backstory: Alex is a passionate software developer who loves open-source projects. They spend weekends hiking and exploring\n",
            "name: Alex Johnson, age: 29, gender: Non-binary, city: Austin, state: Texas, country: USA, backstory: Alex is a passionate software developer who loves open-source projects. They spend weekends hiking and exploring nature\n",
            "name: Alex Johnson, age: 29, gender: Non-binary, city: Austin, state: Texas, country: USA, backstory: Alex is a passionate software developer who loves open-source projects. They spend weekends hiking and exploring nature trails\n",
            "name: Alex Johnson, age: 29, gender: Non-binary, city: Austin, state: Texas, country: USA, backstory: Alex is a passionate software developer who loves open-source projects. They spend weekends hiking and exploring nature trails.\n",
            "name: Alex Johnson, age: 29, gender: Non-binary, city: Austin, state: Texas, country: USA, backstory: Alex is a passionate software developer who loves open-source projects. They spend weekends hiking and exploring nature trails. Alex\n",
            "name: Alex Johnson, age: 29, gender: Non-binary, city: Austin, state: Texas, country: USA, backstory: Alex is a passionate software developer who loves open-source projects. They spend weekends hiking and exploring nature trails. Alex moved\n",
            "name: Alex Johnson, age: 29, gender: Non-binary, city: Austin, state: Texas, country: USA, backstory: Alex is a passionate software developer who loves open-source projects. They spend weekends hiking and exploring nature trails. Alex moved to\n",
            "name: Alex Johnson, age: 29, gender: Non-binary, city: Austin, state: Texas, country: USA, backstory: Alex is a passionate software developer who loves open-source projects. They spend weekends hiking and exploring nature trails. Alex moved to Austin\n",
            "name: Alex Johnson, age: 29, gender: Non-binary, city: Austin, state: Texas, country: USA, backstory: Alex is a passionate software developer who loves open-source projects. They spend weekends hiking and exploring nature trails. Alex moved to Austin for\n",
            "name: Alex Johnson, age: 29, gender: Non-binary, city: Austin, state: Texas, country: USA, backstory: Alex is a passionate software developer who loves open-source projects. They spend weekends hiking and exploring nature trails. Alex moved to Austin for its\n",
            "name: Alex Johnson, age: 29, gender: Non-binary, city: Austin, state: Texas, country: USA, backstory: Alex is a passionate software developer who loves open-source projects. They spend weekends hiking and exploring nature trails. Alex moved to Austin for its vibrant\n",
            "name: Alex Johnson, age: 29, gender: Non-binary, city: Austin, state: Texas, country: USA, backstory: Alex is a passionate software developer who loves open-source projects. They spend weekends hiking and exploring nature trails. Alex moved to Austin for its vibrant tech\n",
            "name: Alex Johnson, age: 29, gender: Non-binary, city: Austin, state: Texas, country: USA, backstory: Alex is a passionate software developer who loves open-source projects. They spend weekends hiking and exploring nature trails. Alex moved to Austin for its vibrant tech scene\n",
            "name: Alex Johnson, age: 29, gender: Non-binary, city: Austin, state: Texas, country: USA, backstory: Alex is a passionate software developer who loves open-source projects. They spend weekends hiking and exploring nature trails. Alex moved to Austin for its vibrant tech scene and\n",
            "name: Alex Johnson, age: 29, gender: Non-binary, city: Austin, state: Texas, country: USA, backstory: Alex is a passionate software developer who loves open-source projects. They spend weekends hiking and exploring nature trails. Alex moved to Austin for its vibrant tech scene and enjoys\n",
            "name: Alex Johnson, age: 29, gender: Non-binary, city: Austin, state: Texas, country: USA, backstory: Alex is a passionate software developer who loves open-source projects. They spend weekends hiking and exploring nature trails. Alex moved to Austin for its vibrant tech scene and enjoys participating\n",
            "name: Alex Johnson, age: 29, gender: Non-binary, city: Austin, state: Texas, country: USA, backstory: Alex is a passionate software developer who loves open-source projects. They spend weekends hiking and exploring nature trails. Alex moved to Austin for its vibrant tech scene and enjoys participating in\n",
            "name: Alex Johnson, age: 29, gender: Non-binary, city: Austin, state: Texas, country: USA, backstory: Alex is a passionate software developer who loves open-source projects. They spend weekends hiking and exploring nature trails. Alex moved to Austin for its vibrant tech scene and enjoys participating in local\n",
            "name: Alex Johnson, age: 29, gender: Non-binary, city: Austin, state: Texas, country: USA, backstory: Alex is a passionate software developer who loves open-source projects. They spend weekends hiking and exploring nature trails. Alex moved to Austin for its vibrant tech scene and enjoys participating in local hack\n",
            "name: Alex Johnson, age: 29, gender: Non-binary, city: Austin, state: Texas, country: USA, backstory: Alex is a passionate software developer who loves open-source projects. They spend weekends hiking and exploring nature trails. Alex moved to Austin for its vibrant tech scene and enjoys participating in local hackathons\n",
            "name: Alex Johnson, age: 29, gender: Non-binary, city: Austin, state: Texas, country: USA, backstory: Alex is a passionate software developer who loves open-source projects. They spend weekends hiking and exploring nature trails. Alex moved to Austin for its vibrant tech scene and enjoys participating in local hackathons.\n"
          ]
        }
      ],
      "source": [
        "inference_provider = \"openai\"   # \"openai\" or \"groq\"\n",
        "client = instructor.from_openai(openai.OpenAI()) if inference_provider == \"openai\" else instructor.from_groq(groq.Groq())\n",
        "\n",
        "class User(BaseModel):\n",
        "    name: str = Field(description=\"The name of the user\")\n",
        "    age: int = Field(description=\"The age of the user\")\n",
        "    gender: str = Field(description=\"The gender of the user\")\n",
        "    city: str = Field(description=\"The city of the user\")\n",
        "    state: str = Field(description=\"The state of the user\")\n",
        "    country: str = Field(description=\"The country of the user\")\n",
        "    backstory: str = Field(description=\"A backstory about the user\")\n",
        "\n",
        "user_stream = client.chat.completions.create_partial(   # create_partial is what does the asynchronous streaming (usually it's \"create\")\n",
        "    model=\"gpt-4o\" if inference_provider == \"openai\" else \"llama-3.1-70b-versatile\",\n",
        "    messages=[\n",
        "        {\"role\": \"user\", \"content\": \"Create 1 synthetic user\"},   # ask the LLM to make up some data\n",
        "    ],\n",
        "    response_model=User,\n",
        "    stream=True,\n",
        ")\n",
        "\n",
        "# below is some overly complicated code to print the results...really just a prettier version of:\n",
        "# for user in user_stream:\n",
        "#     print(user)\n",
        "\n",
        "previous_output = None\n",
        "for user in user_stream:\n",
        "    # this loops with every token\n",
        "    user_dict = user.model_dump()\n",
        "    current_output = \", \".join(f\"{key}: {value}\" for key, value in user_dict.items() if value is not None)\n",
        "    if current_output != previous_output:\n",
        "        print(current_output)   # only print when there's a complete new value i.e. all tokens have arrived\n",
        "        previous_output = current_output\n",
        "\n"
      ]
    }
  ],
  "metadata": {
    "colab": {
      "provenance": []
    },
    "kernelspec": {
      "display_name": "Python 3",
      "name": "python3"
    },
    "language_info": {
      "codemirror_mode": {
        "name": "ipython",
        "version": 3
      },
      "file_extension": ".py",
      "mimetype": "text/x-python",
      "name": "python",
      "nbconvert_exporter": "python",
      "pygments_lexer": "ipython3",
      "version": "3.12.4"
    }
  },
  "nbformat": 4,
  "nbformat_minor": 0
}
