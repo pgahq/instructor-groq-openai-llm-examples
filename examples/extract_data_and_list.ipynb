{
  "cells": [
    {
      "cell_type": "markdown",
      "metadata": {
        "id": "ChQ4YaZHvYbR"
      },
      "source": [
        "## Summary\n",
        "\n",
        "Repo: https://github.com/pgahq/instructor-groq-openai-llm-examples\n",
        "\n",
        "This notebook shows how to use Instructor to extract structured info (including lists) from unstructured text.\n",
        "\n",
        "Note: this notebook assumes you're using Google Colab. You can safely edit / play here. Or go to `File` -> `Save a copy in Google Drive` to make your own version.\n",
        "\n"
      ]
    },
    {
      "cell_type": "code",
      "execution_count": 1,
      "metadata": {
        "id": "7j-wjRULjwc4"
      },
      "outputs": [
        {
          "name": "stdout",
          "output_type": "stream",
          "text": [
            "\n",
            "\u001b[1m[\u001b[0m\u001b[34;49mnotice\u001b[0m\u001b[1;39;49m]\u001b[0m\u001b[39;49m A new release of pip is available: \u001b[0m\u001b[31;49m24.0\u001b[0m\u001b[39;49m -> \u001b[0m\u001b[32;49m24.1.2\u001b[0m\n",
            "\u001b[1m[\u001b[0m\u001b[34;49mnotice\u001b[0m\u001b[1;39;49m]\u001b[0m\u001b[39;49m To update, run: \u001b[0m\u001b[32;49mpip install --upgrade pip\u001b[0m\n"
          ]
        }
      ],
      "source": [
        "!pip install --quiet instructor groq openai"
      ]
    },
    {
      "cell_type": "markdown",
      "metadata": {
        "id": "tA_GryIio4JN"
      },
      "source": [
        "On the left, click the key and set two secrets with your keys. Be sure to enable \"Notebook access\" for them. This is how Google Colab works...you're not sharing your keys with anyone.\n",
        "\n",
        "OPENAI_API_KEY - get a key from https://platform.openai.com/api-keys\n",
        "\n",
        "GROQ_API_KEY - get a key from https://console.groq.com/keys"
      ]
    },
    {
      "cell_type": "code",
      "execution_count": 7,
      "metadata": {
        "id": "M9Om0C2YmGGj"
      },
      "outputs": [],
      "source": [
        "import openai\n",
        "import groq\n",
        "import instructor\n",
        "from typing import List, Optional, Literal\n",
        "from pydantic import BaseModel, Field\n",
        "import os\n",
        "\n",
        "try:\n",
        "    from google.colab import userdata\n",
        "    os.environ['OPENAI_API_KEY'] = '' or userdata.get('OPENAI_API_KEY') # or put your key in the '' on this line\n",
        "    os.environ['GROQ_API_KEY'] = '' or userdata.get('GROQ_API_KEY')\n",
        "except Exception as e:\n",
        "    # print(e)\n",
        "    pass\n",
        "\n",
        "if not os.environ.get('OPENAI_API_KEY') or not os.environ.get('GROQ_API_KEY'):\n",
        "    raise ValueError(\"Both OPENAI_API_KEY and GROQ_API_KEY environment variables must be set and non-empty. Read the text in the notebook (above this block) for more info.\")\n"
      ]
    },
    {
      "cell_type": "markdown",
      "metadata": {
        "id": "N2xtRfmD6pgH"
      },
      "source": [
        "We'll feed the LLM a story and an Instructor model. First, the story..."
      ]
    },
    {
      "cell_type": "code",
      "execution_count": 8,
      "metadata": {
        "id": "50rSTdEq6nr6"
      },
      "outputs": [],
      "source": [
        "story_text = f\"\"\"\n",
        "**The Mysterious Island**\n",
        "\n",
        "Dr. Maria Rodriguez, a renowned botanist, stood at the bow of the small sailboat, her eyes fixed on the uncharted island rising from the sea. She was joined by her team: Jax, a rugged sailor with a penchant for adventure; Dr. Sophia Patel, a brilliant chemist; Ethan, a tech-savvy engineer; and Maya, a young and ambitious journalist.\n",
        "\n",
        "Their mission was to explore the island, rumored to be home to a rare, cancer-fighting plant. As they disembarked, the warm sun on their skin and the sweet scent of blooming flowers enveloped them.\n",
        "\n",
        "\"Alright, team,\" Maria said, \"let's get to work. Sophia, can you start collecting plant samples? Ethan, set up the lab equipment. Maya, see if you can find any signs of previous visitors. Jax, take point on security. And I'll start surveying the island's terrain.\"\n",
        "\n",
        "As they dispersed, Maya stumbled upon a cryptic message scrawled on a palm tree: \"Turn back while you still can.\" She showed it to the others, but they were undeterred.\n",
        "\n",
        "That night, as they sat around a crackling campfire, Sophia announced that she had found a strange, glowing plant with remarkable healing properties. But their celebration was short-lived, as a loud rumble shook the island, and a massive stone door hidden in the jungle floor swung open, revealing an ancient temple.\n",
        "\n",
        "\"What have we stumbled into?\" Ethan asked, his eyes wide with wonder.\n",
        "\n",
        "As they cautiously entered the temple, they discovered ancient artifacts and mysterious symbols etched into the walls. Suddenly, the air was filled with an otherworldly energy, and the team found themselves face to face with an ancient, powerful entity.\n",
        "\n",
        "\"Who are you?\" Maria asked, her voice steady.\n",
        "\n",
        "\"We have been waiting for you,\" the entity replied. \"You have freed us from our slumber. We will grant you one wish, but be warned: be careful what you wish for.\"\n",
        "\n",
        "The team exchanged nervous glances, weighing the risks and possibilities. Maya spoke up, \"We wish for the knowledge and power to heal the world's diseases, but only if used for the greater good.\"\n",
        "\n",
        "The entity nodded, and with a burst of light, the team was transformed, their minds flooded with ancient secrets and their bodies infused with the island's mystical energy. As they sailed away from the island, they knew that their lives – and the fate of humanity – would never be the same.\n",
        "\"\"\""
      ]
    },
    {
      "cell_type": "markdown",
      "metadata": {},
      "source": [
        "## Add tags\n",
        "Simple tags for the story."
      ]
    },
    {
      "cell_type": "code",
      "execution_count": 33,
      "metadata": {},
      "outputs": [
        {
          "name": "stdout",
          "output_type": "stream",
          "text": [
            "tags: ['adventure', 'jungle', 'magic', 'nature', 'survival']\n",
            "classification: fiction\n"
          ]
        }
      ],
      "source": [
        "class Tags(BaseModel):\n",
        "    tags: List[Literal[\n",
        "        \"adventure\",\n",
        "        \"drugs\",\n",
        "        \"jungle\",\n",
        "        \"island\",\n",
        "        \"magic\",\n",
        "        \"monster\",\n",
        "        \"nature\",\n",
        "        \"plant\",\n",
        "        \"revenge\",\n",
        "        \"survival\",\n",
        "        \"space\",\n",
        "        \"war\",\n",
        "        ]] = Field(description=\"An appropriate tag to describe the story.\", default=[])\n",
        "    classification: Literal[\n",
        "        \"fiction\",\n",
        "        \"non-fiction\"\n",
        "        ] = Field(description=\"Fiction or non-fiction\", default=\"\")\n",
        "\n",
        "inference_provider = \"openai\"   # \"openai\" or \"groq\"\n",
        "\n",
        "client = instructor.from_openai(openai.OpenAI()) if inference_provider == \"openai\" else instructor.from_groq(groq.Groq())\n",
        "tags = client.chat.completions.create(\n",
        "    model=\"llama-3.1-70b-versatile\" if inference_provider == \"groq\" else \"gpt-4o-mini\",\n",
        "    messages=[\n",
        "        {\"role\": \"user\", \"content\": story_text},\n",
        "    ],\n",
        "    response_model=Tags,   # this is the Instructor magic\n",
        "    temperature=0.5,\n",
        ")\n",
        "\n",
        "for attribute, value in tags:\n",
        "    print(f\"{attribute}: {value}\")\n"
      ]
    },
    {
      "cell_type": "markdown",
      "metadata": {
        "id": "mv9k3g-n5_Oh"
      },
      "source": [
        "## Extract a simple list\n",
        "Extract a List of `Quote` objects i.e. things that were explicitly said in the story."
      ]
    },
    {
      "cell_type": "code",
      "execution_count": 4,
      "metadata": {
        "colab": {
          "base_uri": "https://localhost:8080/",
          "height": 314
        },
        "id": "AcRehWRJ3EaJ",
        "outputId": "51ff6c82-fffc-4178-94f0-5ff17841eb83"
      },
      "outputs": [
        {
          "data": {
            "text/html": [
              "<pre style=\"white-space:pre;overflow-x:auto;line-height:normal;font-family:Menlo,'DejaVu Sans Mono',consolas,'Courier New',monospace\"><span style=\"color: #800080; text-decoration-color: #800080; font-weight: bold\">Quote</span><span style=\"font-weight: bold\">(</span>\n",
              "    <span style=\"color: #808000; text-decoration-color: #808000\">speaker</span>=<span style=\"color: #008000; text-decoration-color: #008000\">'Dr. Maria Rodriguez'</span>,\n",
              "    <span style=\"color: #808000; text-decoration-color: #808000\">quote</span>=<span style=\"color: #008000; text-decoration-color: #008000\">\"Alright, team, let's get to work. Sophia, can you start collecting plant samples? Ethan, set up the lab </span>\n",
              "<span style=\"color: #008000; text-decoration-color: #008000\">equipment. Maya, see if you can find any signs of previous visitors. Jax, take point on security. And I'll start </span>\n",
              "<span style=\"color: #008000; text-decoration-color: #008000\">surveying the island's terrain.\"</span>\n",
              "<span style=\"font-weight: bold\">)</span>\n",
              "</pre>\n"
            ],
            "text/plain": [
              "\u001b[1;35mQuote\u001b[0m\u001b[1m(\u001b[0m\n",
              "    \u001b[33mspeaker\u001b[0m=\u001b[32m'Dr. Maria Rodriguez'\u001b[0m,\n",
              "    \u001b[33mquote\u001b[0m=\u001b[32m\"Alright\u001b[0m\u001b[32m, team, let's get to work. Sophia, can you start collecting plant samples? Ethan, set up the lab \u001b[0m\n",
              "\u001b[32mequipment. Maya, see if you can find any signs of previous visitors. Jax, take point on security. And I'll start \u001b[0m\n",
              "\u001b[32msurveying the island's terrain.\"\u001b[0m\n",
              "\u001b[1m)\u001b[0m\n"
            ]
          },
          "metadata": {},
          "output_type": "display_data"
        },
        {
          "data": {
            "text/html": [
              "<pre style=\"white-space:pre;overflow-x:auto;line-height:normal;font-family:Menlo,'DejaVu Sans Mono',consolas,'Courier New',monospace\"><span style=\"color: #800080; text-decoration-color: #800080; font-weight: bold\">Quote</span><span style=\"font-weight: bold\">(</span><span style=\"color: #808000; text-decoration-color: #808000\">speaker</span>=<span style=\"color: #008000; text-decoration-color: #008000\">'Maya'</span>, <span style=\"color: #808000; text-decoration-color: #808000\">quote</span>=<span style=\"color: #008000; text-decoration-color: #008000\">'Turn back while you still can.'</span><span style=\"font-weight: bold\">)</span>\n",
              "</pre>\n"
            ],
            "text/plain": [
              "\u001b[1;35mQuote\u001b[0m\u001b[1m(\u001b[0m\u001b[33mspeaker\u001b[0m=\u001b[32m'Maya'\u001b[0m, \u001b[33mquote\u001b[0m=\u001b[32m'Turn back while you still can.'\u001b[0m\u001b[1m)\u001b[0m\n"
            ]
          },
          "metadata": {},
          "output_type": "display_data"
        },
        {
          "data": {
            "text/html": [
              "<pre style=\"white-space:pre;overflow-x:auto;line-height:normal;font-family:Menlo,'DejaVu Sans Mono',consolas,'Courier New',monospace\"><span style=\"color: #800080; text-decoration-color: #800080; font-weight: bold\">Quote</span><span style=\"font-weight: bold\">(</span><span style=\"color: #808000; text-decoration-color: #808000\">speaker</span>=<span style=\"color: #008000; text-decoration-color: #008000\">'Ethan'</span>, <span style=\"color: #808000; text-decoration-color: #808000\">quote</span>=<span style=\"color: #008000; text-decoration-color: #008000\">'What have we stumbled into?'</span><span style=\"font-weight: bold\">)</span>\n",
              "</pre>\n"
            ],
            "text/plain": [
              "\u001b[1;35mQuote\u001b[0m\u001b[1m(\u001b[0m\u001b[33mspeaker\u001b[0m=\u001b[32m'Ethan'\u001b[0m, \u001b[33mquote\u001b[0m=\u001b[32m'What have we stumbled into?'\u001b[0m\u001b[1m)\u001b[0m\n"
            ]
          },
          "metadata": {},
          "output_type": "display_data"
        },
        {
          "data": {
            "text/html": [
              "<pre style=\"white-space:pre;overflow-x:auto;line-height:normal;font-family:Menlo,'DejaVu Sans Mono',consolas,'Courier New',monospace\"><span style=\"color: #800080; text-decoration-color: #800080; font-weight: bold\">Quote</span><span style=\"font-weight: bold\">(</span><span style=\"color: #808000; text-decoration-color: #808000\">speaker</span>=<span style=\"color: #008000; text-decoration-color: #008000\">'Maria'</span>, <span style=\"color: #808000; text-decoration-color: #808000\">quote</span>=<span style=\"color: #008000; text-decoration-color: #008000\">'Who are you?'</span><span style=\"font-weight: bold\">)</span>\n",
              "</pre>\n"
            ],
            "text/plain": [
              "\u001b[1;35mQuote\u001b[0m\u001b[1m(\u001b[0m\u001b[33mspeaker\u001b[0m=\u001b[32m'Maria'\u001b[0m, \u001b[33mquote\u001b[0m=\u001b[32m'Who are you?'\u001b[0m\u001b[1m)\u001b[0m\n"
            ]
          },
          "metadata": {},
          "output_type": "display_data"
        },
        {
          "data": {
            "text/html": [
              "<pre style=\"white-space:pre;overflow-x:auto;line-height:normal;font-family:Menlo,'DejaVu Sans Mono',consolas,'Courier New',monospace\"><span style=\"color: #800080; text-decoration-color: #800080; font-weight: bold\">Quote</span><span style=\"font-weight: bold\">(</span>\n",
              "    <span style=\"color: #808000; text-decoration-color: #808000\">speaker</span>=<span style=\"color: #008000; text-decoration-color: #008000\">'The entity'</span>,\n",
              "    <span style=\"color: #808000; text-decoration-color: #808000\">quote</span>=<span style=\"color: #008000; text-decoration-color: #008000\">'We have been waiting for you. You have freed us from our slumber. We will grant you one wish, but be </span>\n",
              "<span style=\"color: #008000; text-decoration-color: #008000\">warned: be careful what you wish for.'</span>\n",
              "<span style=\"font-weight: bold\">)</span>\n",
              "</pre>\n"
            ],
            "text/plain": [
              "\u001b[1;35mQuote\u001b[0m\u001b[1m(\u001b[0m\n",
              "    \u001b[33mspeaker\u001b[0m=\u001b[32m'The entity'\u001b[0m,\n",
              "    \u001b[33mquote\u001b[0m=\u001b[32m'We have been waiting for you. You have freed us from our slumber. We will grant you one wish, but be \u001b[0m\n",
              "\u001b[32mwarned: be careful what you wish for.'\u001b[0m\n",
              "\u001b[1m)\u001b[0m\n"
            ]
          },
          "metadata": {},
          "output_type": "display_data"
        },
        {
          "data": {
            "text/html": [
              "<pre style=\"white-space:pre;overflow-x:auto;line-height:normal;font-family:Menlo,'DejaVu Sans Mono',consolas,'Courier New',monospace\"><span style=\"color: #800080; text-decoration-color: #800080; font-weight: bold\">Quote</span><span style=\"font-weight: bold\">(</span>\n",
              "    <span style=\"color: #808000; text-decoration-color: #808000\">speaker</span>=<span style=\"color: #008000; text-decoration-color: #008000\">'Maya'</span>,\n",
              "    <span style=\"color: #808000; text-decoration-color: #808000\">quote</span>=<span style=\"color: #008000; text-decoration-color: #008000\">\"We wish for the knowledge and power to heal the world's diseases, but only if used for the greater </span>\n",
              "<span style=\"color: #008000; text-decoration-color: #008000\">good.\"</span>\n",
              "<span style=\"font-weight: bold\">)</span>\n",
              "</pre>\n"
            ],
            "text/plain": [
              "\u001b[1;35mQuote\u001b[0m\u001b[1m(\u001b[0m\n",
              "    \u001b[33mspeaker\u001b[0m=\u001b[32m'Maya'\u001b[0m,\n",
              "    \u001b[33mquote\u001b[0m=\u001b[32m\"We\u001b[0m\u001b[32m wish for the knowledge and power to heal the world's diseases, but only if used for the greater \u001b[0m\n",
              "\u001b[32mgood.\"\u001b[0m\n",
              "\u001b[1m)\u001b[0m\n"
            ]
          },
          "metadata": {},
          "output_type": "display_data"
        }
      ],
      "source": [
        "class Quote(BaseModel):\n",
        "    speaker: str = Field(description=\"Who said the quote.\")\n",
        "    quote: str = Field(description=\"Verbatim quote from the story.\")\n",
        "\n",
        "inference_provider = \"openai\"   # \"openai\" or \"groq\"\n",
        "\n",
        "client = instructor.from_openai(openai.OpenAI()) if inference_provider == \"openai\" else instructor.from_groq(groq.Groq())\n",
        "quotes = client.chat.completions.create(\n",
        "    model=\"llama-3.1-70b-versatile\" if inference_provider == \"groq\" else \"gpt-4o-mini\",\n",
        "    messages=[\n",
        "        {\"role\": \"user\", \"content\": story_text},\n",
        "    ],\n",
        "    response_model=List[Quote],   # this is the Instructor magic\n",
        "    temperature=0.5,\n",
        ")\n",
        "\n",
        "for quote in quotes:\n",
        "    from rich import print as rprint\n",
        "    rprint(quote)"
      ]
    },
    {
      "cell_type": "markdown",
      "metadata": {
        "id": "b-8OFMAl5mq6"
      },
      "source": [
        "## Extract using a more complicated model\n",
        "Here, `Story` contains a List of `Person` objects in addition to other fields.\n",
        "\n",
        "Note that we've asked the model to be creative with several things in the `Person` model. This can lead to hallucinations - which is either good or bad, depending on what you want the model to do. You can also see how `Optional` affects this."
      ]
    },
    {
      "cell_type": "code",
      "execution_count": 5,
      "metadata": {
        "colab": {
          "base_uri": "https://localhost:8080/"
        },
        "id": "ZIgDqEiW2u_A",
        "outputId": "78748231-dffb-40e7-9286-0a2583ad3497"
      },
      "outputs": [
        {
          "name": "stdout",
          "output_type": "stream",
          "text": [
            "{\n",
            "    \"story\": \"Dr. Maria Rodriguez and her team explore an uncharted island rumored to hold a rare cancer-fighting plant. Their adventure takes a supernatural turn when they encounter an ancient entity that grants them the knowledge and power to heal the world's diseases, forever changing their lives and humanity's fate.\",\n",
            "    \"title\": \"The Mysterious Island\",\n",
            "    \"characters\": [\n",
            "        {\n",
            "            \"name\": \"Dr. Maria Rodriguez\",\n",
            "            \"backstory\": \"A renowned botanist leading her team on a quest to find a rare plant.\",\n",
            "            \"perspective\": \"As the leader, I felt a mix of excitement and trepidation as we approached the mysterious island, knowing our mission could change lives.\",\n",
            "            \"hair_color\": \"brown\",\n",
            "            \"favorite_shoes\": null\n",
            "        },\n",
            "        {\n",
            "            \"name\": \"Jax\",\n",
            "            \"backstory\": \"A rugged sailor with a love for adventure, Jax is the team's protector.\",\n",
            "            \"perspective\": \"I took point on security, ready for anything the island might throw at us, but I couldn't shake the feeling that something was off.\",\n",
            "            \"hair_color\": \"black\",\n",
            "            \"favorite_shoes\": \"hiking boots\"\n",
            "        },\n",
            "        {\n",
            "            \"name\": \"Dr. Sophia Patel\",\n",
            "            \"backstory\": \"A brilliant chemist, Sophia is passionate about discovering new healing properties in plants.\",\n",
            "            \"perspective\": \"I was thrilled to find the glowing plant, but the rumble that followed made me question our safety on this island.\",\n",
            "            \"hair_color\": \"red\",\n",
            "            \"favorite_shoes\": null\n",
            "        },\n",
            "        {\n",
            "            \"name\": \"Ethan\",\n",
            "            \"backstory\": \"A tech-savvy engineer, Ethan is responsible for setting up the lab equipment.\",\n",
            "            \"perspective\": \"Entering the ancient temple filled me with awe, but the energy in the air was palpable and unsettling.\",\n",
            "            \"hair_color\": \"blonde\",\n",
            "            \"favorite_shoes\": null\n",
            "        },\n",
            "        {\n",
            "            \"name\": \"Maya\",\n",
            "            \"backstory\": \"A young and ambitious journalist, Maya seeks to uncover the truth behind the island's mysteries.\",\n",
            "            \"perspective\": \"Finding the cryptic message made my heart race, but I was determined to get to the bottom of the island's secrets.\",\n",
            "            \"hair_color\": \"brown\",\n",
            "            \"favorite_shoes\": \"sneakers\"\n",
            "        }\n",
            "    ]\n",
            "}\n"
          ]
        }
      ],
      "source": [
        "class Person(BaseModel):\n",
        "    name: str = Field(description=\"Character from the story.\")\n",
        "    backstory: str = Field(description=\"Backstory of the character.\")\n",
        "    perspective: str = Field(description=\"Tell the story through the character's eyes.\")\n",
        "    hair_color: str = Field(description=\"The character's hair color only if mentioned explicitly in the story.\")\n",
        "    favorite_shoes: Optional[str] = Field(description=\"The character's favorite shoe brand only if mentioned explicitly in the story.\")\n",
        "\n",
        "class Story(BaseModel):\n",
        "    story: str = Field(description=\"2-sentence summary\")\n",
        "    title: str = Field(description=\"The title\")\n",
        "    characters: List[Person] = Field(description=\"Characters\")\n",
        "\n",
        "inference_provider = \"openai\"   # \"openai\" or \"groq\"\n",
        "\n",
        "client = instructor.from_openai(openai.OpenAI()) if inference_provider == \"openai\" else instructor.from_groq(groq.Groq())\n",
        "story = client.chat.completions.create(\n",
        "    model=\"llama-3.1-70b-versatile\" if inference_provider == \"groq\" else \"gpt-4o-mini\",\n",
        "    messages=[\n",
        "        {\"role\": \"user\", \"content\": story_text},\n",
        "    ],\n",
        "    response_model=Story,\n",
        "    temperature=0.5,\n",
        ")\n",
        "\n",
        "print(story.model_dump_json(indent=4))"
      ]
    }
  ],
  "metadata": {
    "colab": {
      "provenance": []
    },
    "kernelspec": {
      "display_name": "Python 3",
      "name": "python3"
    },
    "language_info": {
      "codemirror_mode": {
        "name": "ipython",
        "version": 3
      },
      "file_extension": ".py",
      "mimetype": "text/x-python",
      "name": "python",
      "nbconvert_exporter": "python",
      "pygments_lexer": "ipython3",
      "version": "3.12.4"
    }
  },
  "nbformat": 4,
  "nbformat_minor": 0
}
